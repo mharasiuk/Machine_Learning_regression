{
 "cells": [
  {
   "cell_type": "markdown",
   "metadata": {},
   "source": [
    "## Projekt dotyczący predykcji cen mieszkań w Bostonie"
   ]
  },
  {
   "cell_type": "markdown",
   "metadata": {},
   "source": [
    "Projekt oparty jest na danych dostępnych na stronie <a href=\"https://www.kaggle.com\">Kaggle</a>. \n",
    "Dane na stronie są aktualizowane o nowe rekordy, dlatego pliki z których korzystałem umieszczam <a href=\"https://www.kaggle.com/airbnb/boston\">tutaj</a>. Zawierają one informacje dotyczące mieszkań w Bostonie.\n",
    "Na podstawie tych informacji został stworzony algortym przewidujący ceny mieszkań w Bostonie."
   ]
  },
  {
   "cell_type": "markdown",
   "metadata": {},
   "source": [
    "Pierwszym krokiem jest zaimportowanie potrzebnych bibliotek na potrzeby tego projektu."
   ]
  },
  {
   "cell_type": "code",
   "execution_count": 1,
   "metadata": {},
   "outputs": [],
   "source": [
    "import pandas as pd\n",
    "import numpy as np\n",
    "import statsmodels.formula.api as smf\n",
    "import seaborn as sns\n",
    "import matplotlib.pyplot as plt\n",
    "import xgboost\n",
    "import shap\n",
    "from sklearn.model_selection import train_test_split\n",
    "from sklearn.preprocessing import StandardScaler\n",
    "from sklearn.linear_model import LinearRegression\n",
    "from sklearn.linear_model import Lasso\n",
    "%matplotlib inline"
   ]
  },
  {
   "cell_type": "markdown",
   "metadata": {},
   "source": [
    "Kolejnym krokiem jest zaimportowanie danych."
   ]
  },
  {
   "cell_type": "code",
   "execution_count": 2,
   "metadata": {},
   "outputs": [],
   "source": [
    "boston_listings = pd.read_csv(\"./listings.csv\")\n",
    "boston_calendar = pd.read_csv(\"./calendar.csv\")\n",
    "boston_reviews = pd.read_csv(\"./reviews.csv\")"
   ]
  },
  {
   "cell_type": "markdown",
   "metadata": {},
   "source": [
    "Jednym z ważniejszych elementów jakie należy zrobić jest analiza danych w celu ich zrozumienia."
   ]
  },
  {
   "cell_type": "code",
   "execution_count": 3,
   "metadata": {},
   "outputs": [
    {
     "data": {
      "text/html": [
       "<div>\n",
       "<style scoped>\n",
       "    .dataframe tbody tr th:only-of-type {\n",
       "        vertical-align: middle;\n",
       "    }\n",
       "\n",
       "    .dataframe tbody tr th {\n",
       "        vertical-align: top;\n",
       "    }\n",
       "\n",
       "    .dataframe thead th {\n",
       "        text-align: right;\n",
       "    }\n",
       "</style>\n",
       "<table border=\"1\" class=\"dataframe\">\n",
       "  <thead>\n",
       "    <tr style=\"text-align: right;\">\n",
       "      <th></th>\n",
       "      <th>listing_id</th>\n",
       "      <th>date</th>\n",
       "      <th>available</th>\n",
       "      <th>price</th>\n",
       "    </tr>\n",
       "  </thead>\n",
       "  <tbody>\n",
       "    <tr>\n",
       "      <th>0</th>\n",
       "      <td>12147973</td>\n",
       "      <td>2017-09-05</td>\n",
       "      <td>f</td>\n",
       "      <td>NaN</td>\n",
       "    </tr>\n",
       "    <tr>\n",
       "      <th>1</th>\n",
       "      <td>12147973</td>\n",
       "      <td>2017-09-04</td>\n",
       "      <td>f</td>\n",
       "      <td>NaN</td>\n",
       "    </tr>\n",
       "    <tr>\n",
       "      <th>2</th>\n",
       "      <td>12147973</td>\n",
       "      <td>2017-09-03</td>\n",
       "      <td>f</td>\n",
       "      <td>NaN</td>\n",
       "    </tr>\n",
       "  </tbody>\n",
       "</table>\n",
       "</div>"
      ],
      "text/plain": [
       "   listing_id        date available price\n",
       "0    12147973  2017-09-05         f   NaN\n",
       "1    12147973  2017-09-04         f   NaN\n",
       "2    12147973  2017-09-03         f   NaN"
      ]
     },
     "execution_count": 3,
     "metadata": {},
     "output_type": "execute_result"
    }
   ],
   "source": [
    "boston_calendar.head(3)"
   ]
  },
  {
   "cell_type": "code",
   "execution_count": 4,
   "metadata": {},
   "outputs": [],
   "source": [
    "boston_calendar.sort_values(by=\"date\", inplace=True)\n",
    "min_date = boston_calendar[\"date\"]\n",
    "max_date = boston_calendar[\"date\"]"
   ]
  },
  {
   "cell_type": "code",
   "execution_count": 5,
   "metadata": {},
   "outputs": [
    {
     "name": "stdout",
     "output_type": "stream",
     "text": [
      "Start data: 2016-09-06\n"
     ]
    }
   ],
   "source": [
    "print(\"Start data: \" + str(min_date.iloc[0]))"
   ]
  },
  {
   "cell_type": "code",
   "execution_count": 6,
   "metadata": {},
   "outputs": [
    {
     "name": "stdout",
     "output_type": "stream",
     "text": [
      "Stop data: 2017-09-05\n"
     ]
    }
   ],
   "source": [
    "print(\"Stop data: \" + str(max_date.iloc[-1]))"
   ]
  },
  {
   "cell_type": "code",
   "execution_count": 7,
   "metadata": {},
   "outputs": [
    {
     "data": {
      "text/html": [
       "<div>\n",
       "<style scoped>\n",
       "    .dataframe tbody tr th:only-of-type {\n",
       "        vertical-align: middle;\n",
       "    }\n",
       "\n",
       "    .dataframe tbody tr th {\n",
       "        vertical-align: top;\n",
       "    }\n",
       "\n",
       "    .dataframe thead th {\n",
       "        text-align: right;\n",
       "    }\n",
       "</style>\n",
       "<table border=\"1\" class=\"dataframe\">\n",
       "  <thead>\n",
       "    <tr style=\"text-align: right;\">\n",
       "      <th></th>\n",
       "      <th>listing_id</th>\n",
       "      <th>id</th>\n",
       "      <th>date</th>\n",
       "      <th>reviewer_id</th>\n",
       "      <th>reviewer_name</th>\n",
       "      <th>comments</th>\n",
       "    </tr>\n",
       "  </thead>\n",
       "  <tbody>\n",
       "    <tr>\n",
       "      <th>0</th>\n",
       "      <td>1178162</td>\n",
       "      <td>4724140</td>\n",
       "      <td>2013-05-21</td>\n",
       "      <td>4298113</td>\n",
       "      <td>Olivier</td>\n",
       "      <td>My stay at islam's place was really cool! Good...</td>\n",
       "    </tr>\n",
       "    <tr>\n",
       "      <th>1</th>\n",
       "      <td>1178162</td>\n",
       "      <td>4869189</td>\n",
       "      <td>2013-05-29</td>\n",
       "      <td>6452964</td>\n",
       "      <td>Charlotte</td>\n",
       "      <td>Great location for both airport and city - gre...</td>\n",
       "    </tr>\n",
       "    <tr>\n",
       "      <th>2</th>\n",
       "      <td>1178162</td>\n",
       "      <td>5003196</td>\n",
       "      <td>2013-06-06</td>\n",
       "      <td>6449554</td>\n",
       "      <td>Sebastian</td>\n",
       "      <td>We really enjoyed our stay at Islams house. Fr...</td>\n",
       "    </tr>\n",
       "  </tbody>\n",
       "</table>\n",
       "</div>"
      ],
      "text/plain": [
       "   listing_id       id        date  reviewer_id reviewer_name  \\\n",
       "0     1178162  4724140  2013-05-21      4298113       Olivier   \n",
       "1     1178162  4869189  2013-05-29      6452964     Charlotte   \n",
       "2     1178162  5003196  2013-06-06      6449554     Sebastian   \n",
       "\n",
       "                                            comments  \n",
       "0  My stay at islam's place was really cool! Good...  \n",
       "1  Great location for both airport and city - gre...  \n",
       "2  We really enjoyed our stay at Islams house. Fr...  "
      ]
     },
     "execution_count": 7,
     "metadata": {},
     "output_type": "execute_result"
    }
   ],
   "source": [
    "boston_reviews.head(3)"
   ]
  },
  {
   "cell_type": "code",
   "execution_count": 8,
   "metadata": {},
   "outputs": [],
   "source": [
    "boston = boston_listings.copy()"
   ]
  },
  {
   "cell_type": "code",
   "execution_count": 9,
   "metadata": {},
   "outputs": [
    {
     "data": {
      "text/plain": [
       "3585"
      ]
     },
     "execution_count": 9,
     "metadata": {},
     "output_type": "execute_result"
    }
   ],
   "source": [
    "len(boston)"
   ]
  },
  {
   "cell_type": "code",
   "execution_count": 10,
   "metadata": {},
   "outputs": [
    {
     "data": {
      "text/html": [
       "<div>\n",
       "<style scoped>\n",
       "    .dataframe tbody tr th:only-of-type {\n",
       "        vertical-align: middle;\n",
       "    }\n",
       "\n",
       "    .dataframe tbody tr th {\n",
       "        vertical-align: top;\n",
       "    }\n",
       "\n",
       "    .dataframe thead th {\n",
       "        text-align: right;\n",
       "    }\n",
       "</style>\n",
       "<table border=\"1\" class=\"dataframe\">\n",
       "  <thead>\n",
       "    <tr style=\"text-align: right;\">\n",
       "      <th></th>\n",
       "      <th>id</th>\n",
       "      <th>listing_url</th>\n",
       "      <th>scrape_id</th>\n",
       "      <th>last_scraped</th>\n",
       "      <th>name</th>\n",
       "      <th>summary</th>\n",
       "      <th>space</th>\n",
       "      <th>description</th>\n",
       "      <th>experiences_offered</th>\n",
       "      <th>neighborhood_overview</th>\n",
       "      <th>...</th>\n",
       "      <th>review_scores_value</th>\n",
       "      <th>requires_license</th>\n",
       "      <th>license</th>\n",
       "      <th>jurisdiction_names</th>\n",
       "      <th>instant_bookable</th>\n",
       "      <th>cancellation_policy</th>\n",
       "      <th>require_guest_profile_picture</th>\n",
       "      <th>require_guest_phone_verification</th>\n",
       "      <th>calculated_host_listings_count</th>\n",
       "      <th>reviews_per_month</th>\n",
       "    </tr>\n",
       "  </thead>\n",
       "  <tbody>\n",
       "    <tr>\n",
       "      <th>0</th>\n",
       "      <td>12147973</td>\n",
       "      <td>https://www.airbnb.com/rooms/12147973</td>\n",
       "      <td>20160906204935</td>\n",
       "      <td>2016-09-07</td>\n",
       "      <td>Sunny Bungalow in the City</td>\n",
       "      <td>Cozy, sunny, family home.  Master bedroom high...</td>\n",
       "      <td>The house has an open and cozy feel at the sam...</td>\n",
       "      <td>Cozy, sunny, family home.  Master bedroom high...</td>\n",
       "      <td>none</td>\n",
       "      <td>Roslindale is quiet, convenient and friendly. ...</td>\n",
       "      <td>...</td>\n",
       "      <td>NaN</td>\n",
       "      <td>f</td>\n",
       "      <td>NaN</td>\n",
       "      <td>NaN</td>\n",
       "      <td>f</td>\n",
       "      <td>moderate</td>\n",
       "      <td>f</td>\n",
       "      <td>f</td>\n",
       "      <td>1</td>\n",
       "      <td>NaN</td>\n",
       "    </tr>\n",
       "    <tr>\n",
       "      <th>1</th>\n",
       "      <td>3075044</td>\n",
       "      <td>https://www.airbnb.com/rooms/3075044</td>\n",
       "      <td>20160906204935</td>\n",
       "      <td>2016-09-07</td>\n",
       "      <td>Charming room in pet friendly apt</td>\n",
       "      <td>Charming and quiet room in a second floor 1910...</td>\n",
       "      <td>Small but cozy and quite room with a full size...</td>\n",
       "      <td>Charming and quiet room in a second floor 1910...</td>\n",
       "      <td>none</td>\n",
       "      <td>The room is in Roslindale, a diverse and prima...</td>\n",
       "      <td>...</td>\n",
       "      <td>9.0</td>\n",
       "      <td>f</td>\n",
       "      <td>NaN</td>\n",
       "      <td>NaN</td>\n",
       "      <td>t</td>\n",
       "      <td>moderate</td>\n",
       "      <td>f</td>\n",
       "      <td>f</td>\n",
       "      <td>1</td>\n",
       "      <td>1.30</td>\n",
       "    </tr>\n",
       "    <tr>\n",
       "      <th>2</th>\n",
       "      <td>6976</td>\n",
       "      <td>https://www.airbnb.com/rooms/6976</td>\n",
       "      <td>20160906204935</td>\n",
       "      <td>2016-09-07</td>\n",
       "      <td>Mexican Folk Art Haven in Boston</td>\n",
       "      <td>Come stay with a friendly, middle-aged guy in ...</td>\n",
       "      <td>Come stay with a friendly, middle-aged guy in ...</td>\n",
       "      <td>Come stay with a friendly, middle-aged guy in ...</td>\n",
       "      <td>none</td>\n",
       "      <td>The LOCATION: Roslindale is a safe and diverse...</td>\n",
       "      <td>...</td>\n",
       "      <td>10.0</td>\n",
       "      <td>f</td>\n",
       "      <td>NaN</td>\n",
       "      <td>NaN</td>\n",
       "      <td>f</td>\n",
       "      <td>moderate</td>\n",
       "      <td>t</td>\n",
       "      <td>f</td>\n",
       "      <td>1</td>\n",
       "      <td>0.47</td>\n",
       "    </tr>\n",
       "  </tbody>\n",
       "</table>\n",
       "<p>3 rows × 95 columns</p>\n",
       "</div>"
      ],
      "text/plain": [
       "         id                            listing_url       scrape_id  \\\n",
       "0  12147973  https://www.airbnb.com/rooms/12147973  20160906204935   \n",
       "1   3075044   https://www.airbnb.com/rooms/3075044  20160906204935   \n",
       "2      6976      https://www.airbnb.com/rooms/6976  20160906204935   \n",
       "\n",
       "  last_scraped                               name  \\\n",
       "0   2016-09-07         Sunny Bungalow in the City   \n",
       "1   2016-09-07  Charming room in pet friendly apt   \n",
       "2   2016-09-07   Mexican Folk Art Haven in Boston   \n",
       "\n",
       "                                             summary  \\\n",
       "0  Cozy, sunny, family home.  Master bedroom high...   \n",
       "1  Charming and quiet room in a second floor 1910...   \n",
       "2  Come stay with a friendly, middle-aged guy in ...   \n",
       "\n",
       "                                               space  \\\n",
       "0  The house has an open and cozy feel at the sam...   \n",
       "1  Small but cozy and quite room with a full size...   \n",
       "2  Come stay with a friendly, middle-aged guy in ...   \n",
       "\n",
       "                                         description experiences_offered  \\\n",
       "0  Cozy, sunny, family home.  Master bedroom high...                none   \n",
       "1  Charming and quiet room in a second floor 1910...                none   \n",
       "2  Come stay with a friendly, middle-aged guy in ...                none   \n",
       "\n",
       "                               neighborhood_overview  ... review_scores_value  \\\n",
       "0  Roslindale is quiet, convenient and friendly. ...  ...                 NaN   \n",
       "1  The room is in Roslindale, a diverse and prima...  ...                 9.0   \n",
       "2  The LOCATION: Roslindale is a safe and diverse...  ...                10.0   \n",
       "\n",
       "  requires_license license jurisdiction_names instant_bookable  \\\n",
       "0                f     NaN                NaN                f   \n",
       "1                f     NaN                NaN                t   \n",
       "2                f     NaN                NaN                f   \n",
       "\n",
       "  cancellation_policy require_guest_profile_picture  \\\n",
       "0            moderate                             f   \n",
       "1            moderate                             f   \n",
       "2            moderate                             t   \n",
       "\n",
       "  require_guest_phone_verification calculated_host_listings_count  \\\n",
       "0                                f                              1   \n",
       "1                                f                              1   \n",
       "2                                f                              1   \n",
       "\n",
       "   reviews_per_month  \n",
       "0                NaN  \n",
       "1               1.30  \n",
       "2               0.47  \n",
       "\n",
       "[3 rows x 95 columns]"
      ]
     },
     "execution_count": 10,
     "metadata": {},
     "output_type": "execute_result"
    }
   ],
   "source": [
    "boston.head(3)"
   ]
  },
  {
   "cell_type": "code",
   "execution_count": 11,
   "metadata": {},
   "outputs": [
    {
     "data": {
      "text/plain": [
       "Index(['id', 'listing_url', 'scrape_id', 'last_scraped', 'name', 'summary',\n",
       "       'space', 'description', 'experiences_offered', 'neighborhood_overview',\n",
       "       'notes', 'transit', 'access', 'interaction', 'house_rules',\n",
       "       'thumbnail_url', 'medium_url', 'picture_url', 'xl_picture_url',\n",
       "       'host_id', 'host_url', 'host_name', 'host_since', 'host_location',\n",
       "       'host_about', 'host_response_time', 'host_response_rate',\n",
       "       'host_acceptance_rate', 'host_is_superhost', 'host_thumbnail_url',\n",
       "       'host_picture_url', 'host_neighbourhood', 'host_listings_count',\n",
       "       'host_total_listings_count', 'host_verifications',\n",
       "       'host_has_profile_pic', 'host_identity_verified', 'street',\n",
       "       'neighbourhood', 'neighbourhood_cleansed',\n",
       "       'neighbourhood_group_cleansed', 'city', 'state', 'zipcode', 'market',\n",
       "       'smart_location', 'country_code', 'country', 'latitude', 'longitude',\n",
       "       'is_location_exact', 'property_type', 'room_type', 'accommodates',\n",
       "       'bathrooms', 'bedrooms', 'beds', 'bed_type', 'amenities', 'square_feet',\n",
       "       'price', 'weekly_price', 'monthly_price', 'security_deposit',\n",
       "       'cleaning_fee', 'guests_included', 'extra_people', 'minimum_nights',\n",
       "       'maximum_nights', 'calendar_updated', 'has_availability',\n",
       "       'availability_30', 'availability_60', 'availability_90',\n",
       "       'availability_365', 'calendar_last_scraped', 'number_of_reviews',\n",
       "       'first_review', 'last_review', 'review_scores_rating',\n",
       "       'review_scores_accuracy', 'review_scores_cleanliness',\n",
       "       'review_scores_checkin', 'review_scores_communication',\n",
       "       'review_scores_location', 'review_scores_value', 'requires_license',\n",
       "       'license', 'jurisdiction_names', 'instant_bookable',\n",
       "       'cancellation_policy', 'require_guest_profile_picture',\n",
       "       'require_guest_phone_verification', 'calculated_host_listings_count',\n",
       "       'reviews_per_month'],\n",
       "      dtype='object')"
      ]
     },
     "execution_count": 11,
     "metadata": {},
     "output_type": "execute_result"
    }
   ],
   "source": [
    "boston.columns"
   ]
  },
  {
   "cell_type": "markdown",
   "metadata": {},
   "source": [
    "Przygotowanie zmiennej celu do dalszej analizy."
   ]
  },
  {
   "cell_type": "code",
   "execution_count": 12,
   "metadata": {},
   "outputs": [
    {
     "data": {
      "text/plain": [
       "count    3585.000000\n",
       "mean      173.925802\n",
       "std       148.331321\n",
       "min        10.000000\n",
       "25%        85.000000\n",
       "50%       150.000000\n",
       "75%       220.000000\n",
       "max      4000.000000\n",
       "Name: price, dtype: float64"
      ]
     },
     "execution_count": 12,
     "metadata": {},
     "output_type": "execute_result"
    }
   ],
   "source": [
    "boston[\"price\"] = boston[\"price\"].apply(lambda change_describe_price: change_describe_price.replace(\"$\",\"\"))\n",
    "boston[\"price\"] = boston[\"price\"].apply(lambda change_describe_price: change_describe_price.replace(\",\",\"\"))\n",
    "\n",
    "boston[\"price\"] = boston[\"price\"].astype(\"float\")\n",
    "boston[\"price\"].describe()"
   ]
  },
  {
   "cell_type": "code",
   "execution_count": 13,
   "metadata": {},
   "outputs": [
    {
     "data": {
      "text/plain": [
       "0    250.0\n",
       "1     65.0\n",
       "2     65.0\n",
       "3     75.0\n",
       "4     79.0\n",
       "Name: price, dtype: float64"
      ]
     },
     "execution_count": 13,
     "metadata": {},
     "output_type": "execute_result"
    }
   ],
   "source": [
    "boston[\"price\"].head()"
   ]
  },
  {
   "cell_type": "code",
   "execution_count": 14,
   "metadata": {},
   "outputs": [
    {
     "name": "stdout",
     "output_type": "stream",
     "text": [
      "<class 'pandas.core.frame.DataFrame'>\n",
      "RangeIndex: 3585 entries, 0 to 3584\n",
      "Data columns (total 95 columns):\n",
      " #   Column                            Non-Null Count  Dtype  \n",
      "---  ------                            --------------  -----  \n",
      " 0   id                                3585 non-null   int64  \n",
      " 1   listing_url                       3585 non-null   object \n",
      " 2   scrape_id                         3585 non-null   int64  \n",
      " 3   last_scraped                      3585 non-null   object \n",
      " 4   name                              3585 non-null   object \n",
      " 5   summary                           3442 non-null   object \n",
      " 6   space                             2528 non-null   object \n",
      " 7   description                       3585 non-null   object \n",
      " 8   experiences_offered               3585 non-null   object \n",
      " 9   neighborhood_overview             2170 non-null   object \n",
      " 10  notes                             1610 non-null   object \n",
      " 11  transit                           2295 non-null   object \n",
      " 12  access                            2096 non-null   object \n",
      " 13  interaction                       2031 non-null   object \n",
      " 14  house_rules                       2393 non-null   object \n",
      " 15  thumbnail_url                     2986 non-null   object \n",
      " 16  medium_url                        2986 non-null   object \n",
      " 17  picture_url                       3585 non-null   object \n",
      " 18  xl_picture_url                    2986 non-null   object \n",
      " 19  host_id                           3585 non-null   int64  \n",
      " 20  host_url                          3585 non-null   object \n",
      " 21  host_name                         3585 non-null   object \n",
      " 22  host_since                        3585 non-null   object \n",
      " 23  host_location                     3574 non-null   object \n",
      " 24  host_about                        2276 non-null   object \n",
      " 25  host_response_time                3114 non-null   object \n",
      " 26  host_response_rate                3114 non-null   object \n",
      " 27  host_acceptance_rate              3114 non-null   object \n",
      " 28  host_is_superhost                 3585 non-null   object \n",
      " 29  host_thumbnail_url                3585 non-null   object \n",
      " 30  host_picture_url                  3585 non-null   object \n",
      " 31  host_neighbourhood                3246 non-null   object \n",
      " 32  host_listings_count               3585 non-null   int64  \n",
      " 33  host_total_listings_count         3585 non-null   int64  \n",
      " 34  host_verifications                3585 non-null   object \n",
      " 35  host_has_profile_pic              3585 non-null   object \n",
      " 36  host_identity_verified            3585 non-null   object \n",
      " 37  street                            3585 non-null   object \n",
      " 38  neighbourhood                     3042 non-null   object \n",
      " 39  neighbourhood_cleansed            3585 non-null   object \n",
      " 40  neighbourhood_group_cleansed      0 non-null      float64\n",
      " 41  city                              3583 non-null   object \n",
      " 42  state                             3585 non-null   object \n",
      " 43  zipcode                           3547 non-null   object \n",
      " 44  market                            3571 non-null   object \n",
      " 45  smart_location                    3585 non-null   object \n",
      " 46  country_code                      3585 non-null   object \n",
      " 47  country                           3585 non-null   object \n",
      " 48  latitude                          3585 non-null   float64\n",
      " 49  longitude                         3585 non-null   float64\n",
      " 50  is_location_exact                 3585 non-null   object \n",
      " 51  property_type                     3582 non-null   object \n",
      " 52  room_type                         3585 non-null   object \n",
      " 53  accommodates                      3585 non-null   int64  \n",
      " 54  bathrooms                         3571 non-null   float64\n",
      " 55  bedrooms                          3575 non-null   float64\n",
      " 56  beds                              3576 non-null   float64\n",
      " 57  bed_type                          3585 non-null   object \n",
      " 58  amenities                         3585 non-null   object \n",
      " 59  square_feet                       56 non-null     float64\n",
      " 60  price                             3585 non-null   float64\n",
      " 61  weekly_price                      892 non-null    object \n",
      " 62  monthly_price                     888 non-null    object \n",
      " 63  security_deposit                  1342 non-null   object \n",
      " 64  cleaning_fee                      2478 non-null   object \n",
      " 65  guests_included                   3585 non-null   int64  \n",
      " 66  extra_people                      3585 non-null   object \n",
      " 67  minimum_nights                    3585 non-null   int64  \n",
      " 68  maximum_nights                    3585 non-null   int64  \n",
      " 69  calendar_updated                  3585 non-null   object \n",
      " 70  has_availability                  0 non-null      float64\n",
      " 71  availability_30                   3585 non-null   int64  \n",
      " 72  availability_60                   3585 non-null   int64  \n",
      " 73  availability_90                   3585 non-null   int64  \n",
      " 74  availability_365                  3585 non-null   int64  \n",
      " 75  calendar_last_scraped             3585 non-null   object \n",
      " 76  number_of_reviews                 3585 non-null   int64  \n",
      " 77  first_review                      2829 non-null   object \n",
      " 78  last_review                       2829 non-null   object \n",
      " 79  review_scores_rating              2772 non-null   float64\n",
      " 80  review_scores_accuracy            2762 non-null   float64\n",
      " 81  review_scores_cleanliness         2767 non-null   float64\n",
      " 82  review_scores_checkin             2765 non-null   float64\n",
      " 83  review_scores_communication       2767 non-null   float64\n",
      " 84  review_scores_location            2763 non-null   float64\n",
      " 85  review_scores_value               2764 non-null   float64\n",
      " 86  requires_license                  3585 non-null   object \n",
      " 87  license                           0 non-null      float64\n",
      " 88  jurisdiction_names                0 non-null      float64\n",
      " 89  instant_bookable                  3585 non-null   object \n",
      " 90  cancellation_policy               3585 non-null   object \n",
      " 91  require_guest_profile_picture     3585 non-null   object \n",
      " 92  require_guest_phone_verification  3585 non-null   object \n",
      " 93  calculated_host_listings_count    3585 non-null   int64  \n",
      " 94  reviews_per_month                 2829 non-null   float64\n",
      "dtypes: float64(19), int64(15), object(61)\n",
      "memory usage: 2.6+ MB\n"
     ]
    }
   ],
   "source": [
    "boston.info()"
   ]
  },
  {
   "cell_type": "code",
   "execution_count": 15,
   "metadata": {},
   "outputs": [
    {
     "data": {
      "text/plain": [
       "['id',\n",
       " 'scrape_id',\n",
       " 'host_id',\n",
       " 'host_listings_count',\n",
       " 'host_total_listings_count',\n",
       " 'neighbourhood_group_cleansed',\n",
       " 'latitude',\n",
       " 'longitude',\n",
       " 'accommodates',\n",
       " 'bathrooms',\n",
       " 'bedrooms',\n",
       " 'beds',\n",
       " 'square_feet',\n",
       " 'price',\n",
       " 'guests_included',\n",
       " 'minimum_nights',\n",
       " 'maximum_nights',\n",
       " 'has_availability',\n",
       " 'availability_30',\n",
       " 'availability_60',\n",
       " 'availability_90',\n",
       " 'availability_365',\n",
       " 'number_of_reviews',\n",
       " 'review_scores_rating',\n",
       " 'review_scores_accuracy',\n",
       " 'review_scores_cleanliness',\n",
       " 'review_scores_checkin',\n",
       " 'review_scores_communication',\n",
       " 'review_scores_location',\n",
       " 'review_scores_value',\n",
       " 'license',\n",
       " 'jurisdiction_names',\n",
       " 'calculated_host_listings_count',\n",
       " 'reviews_per_month']"
      ]
     },
     "execution_count": 15,
     "metadata": {},
     "output_type": "execute_result"
    }
   ],
   "source": [
    "list(boston.describe())"
   ]
  },
  {
   "cell_type": "code",
   "execution_count": 16,
   "metadata": {},
   "outputs": [
    {
     "data": {
      "text/html": [
       "<div>\n",
       "<style scoped>\n",
       "    .dataframe tbody tr th:only-of-type {\n",
       "        vertical-align: middle;\n",
       "    }\n",
       "\n",
       "    .dataframe tbody tr th {\n",
       "        vertical-align: top;\n",
       "    }\n",
       "\n",
       "    .dataframe thead th {\n",
       "        text-align: right;\n",
       "    }\n",
       "</style>\n",
       "<table border=\"1\" class=\"dataframe\">\n",
       "  <thead>\n",
       "    <tr style=\"text-align: right;\">\n",
       "      <th></th>\n",
       "      <th>count</th>\n",
       "      <th>mean</th>\n",
       "      <th>std</th>\n",
       "      <th>min</th>\n",
       "      <th>25%</th>\n",
       "      <th>50%</th>\n",
       "      <th>75%</th>\n",
       "      <th>max</th>\n",
       "    </tr>\n",
       "  </thead>\n",
       "  <tbody>\n",
       "    <tr>\n",
       "      <th>id</th>\n",
       "      <td>3585.0</td>\n",
       "      <td>8.440875e+06</td>\n",
       "      <td>4.500787e+06</td>\n",
       "      <td>3.353000e+03</td>\n",
       "      <td>4.679319e+06</td>\n",
       "      <td>8.577620e+06</td>\n",
       "      <td>1.278953e+07</td>\n",
       "      <td>1.493346e+07</td>\n",
       "    </tr>\n",
       "    <tr>\n",
       "      <th>scrape_id</th>\n",
       "      <td>3585.0</td>\n",
       "      <td>2.016091e+13</td>\n",
       "      <td>8.516813e-01</td>\n",
       "      <td>2.016091e+13</td>\n",
       "      <td>2.016091e+13</td>\n",
       "      <td>2.016091e+13</td>\n",
       "      <td>2.016091e+13</td>\n",
       "      <td>2.016091e+13</td>\n",
       "    </tr>\n",
       "    <tr>\n",
       "      <th>host_id</th>\n",
       "      <td>3585.0</td>\n",
       "      <td>2.492311e+07</td>\n",
       "      <td>2.292781e+07</td>\n",
       "      <td>4.240000e+03</td>\n",
       "      <td>6.103425e+06</td>\n",
       "      <td>1.928100e+07</td>\n",
       "      <td>3.622147e+07</td>\n",
       "      <td>9.385411e+07</td>\n",
       "    </tr>\n",
       "    <tr>\n",
       "      <th>host_listings_count</th>\n",
       "      <td>3585.0</td>\n",
       "      <td>5.890237e+01</td>\n",
       "      <td>1.711197e+02</td>\n",
       "      <td>0.000000e+00</td>\n",
       "      <td>1.000000e+00</td>\n",
       "      <td>2.000000e+00</td>\n",
       "      <td>7.000000e+00</td>\n",
       "      <td>7.490000e+02</td>\n",
       "    </tr>\n",
       "    <tr>\n",
       "      <th>host_total_listings_count</th>\n",
       "      <td>3585.0</td>\n",
       "      <td>5.890237e+01</td>\n",
       "      <td>1.711197e+02</td>\n",
       "      <td>0.000000e+00</td>\n",
       "      <td>1.000000e+00</td>\n",
       "      <td>2.000000e+00</td>\n",
       "      <td>7.000000e+00</td>\n",
       "      <td>7.490000e+02</td>\n",
       "    </tr>\n",
       "    <tr>\n",
       "      <th>neighbourhood_group_cleansed</th>\n",
       "      <td>0.0</td>\n",
       "      <td>NaN</td>\n",
       "      <td>NaN</td>\n",
       "      <td>NaN</td>\n",
       "      <td>NaN</td>\n",
       "      <td>NaN</td>\n",
       "      <td>NaN</td>\n",
       "      <td>NaN</td>\n",
       "    </tr>\n",
       "    <tr>\n",
       "      <th>latitude</th>\n",
       "      <td>3585.0</td>\n",
       "      <td>4.234003e+01</td>\n",
       "      <td>2.440255e-02</td>\n",
       "      <td>4.223594e+01</td>\n",
       "      <td>4.232999e+01</td>\n",
       "      <td>4.234520e+01</td>\n",
       "      <td>4.235469e+01</td>\n",
       "      <td>4.238998e+01</td>\n",
       "    </tr>\n",
       "    <tr>\n",
       "      <th>longitude</th>\n",
       "      <td>3585.0</td>\n",
       "      <td>-7.108482e+01</td>\n",
       "      <td>3.156464e-02</td>\n",
       "      <td>-7.117179e+01</td>\n",
       "      <td>-7.110508e+01</td>\n",
       "      <td>-7.107843e+01</td>\n",
       "      <td>-7.106215e+01</td>\n",
       "      <td>-7.100010e+01</td>\n",
       "    </tr>\n",
       "    <tr>\n",
       "      <th>accommodates</th>\n",
       "      <td>3585.0</td>\n",
       "      <td>3.041283e+00</td>\n",
       "      <td>1.778929e+00</td>\n",
       "      <td>1.000000e+00</td>\n",
       "      <td>2.000000e+00</td>\n",
       "      <td>2.000000e+00</td>\n",
       "      <td>4.000000e+00</td>\n",
       "      <td>1.600000e+01</td>\n",
       "    </tr>\n",
       "    <tr>\n",
       "      <th>bathrooms</th>\n",
       "      <td>3571.0</td>\n",
       "      <td>1.221647e+00</td>\n",
       "      <td>5.014871e-01</td>\n",
       "      <td>0.000000e+00</td>\n",
       "      <td>1.000000e+00</td>\n",
       "      <td>1.000000e+00</td>\n",
       "      <td>1.000000e+00</td>\n",
       "      <td>6.000000e+00</td>\n",
       "    </tr>\n",
       "    <tr>\n",
       "      <th>bedrooms</th>\n",
       "      <td>3575.0</td>\n",
       "      <td>1.255944e+00</td>\n",
       "      <td>7.530596e-01</td>\n",
       "      <td>0.000000e+00</td>\n",
       "      <td>1.000000e+00</td>\n",
       "      <td>1.000000e+00</td>\n",
       "      <td>2.000000e+00</td>\n",
       "      <td>5.000000e+00</td>\n",
       "    </tr>\n",
       "    <tr>\n",
       "      <th>beds</th>\n",
       "      <td>3576.0</td>\n",
       "      <td>1.609060e+00</td>\n",
       "      <td>1.011745e+00</td>\n",
       "      <td>0.000000e+00</td>\n",
       "      <td>1.000000e+00</td>\n",
       "      <td>1.000000e+00</td>\n",
       "      <td>2.000000e+00</td>\n",
       "      <td>1.600000e+01</td>\n",
       "    </tr>\n",
       "    <tr>\n",
       "      <th>square_feet</th>\n",
       "      <td>56.0</td>\n",
       "      <td>8.584643e+02</td>\n",
       "      <td>6.088743e+02</td>\n",
       "      <td>0.000000e+00</td>\n",
       "      <td>4.150000e+02</td>\n",
       "      <td>8.250000e+02</td>\n",
       "      <td>1.200000e+03</td>\n",
       "      <td>2.400000e+03</td>\n",
       "    </tr>\n",
       "    <tr>\n",
       "      <th>price</th>\n",
       "      <td>3585.0</td>\n",
       "      <td>1.739258e+02</td>\n",
       "      <td>1.483313e+02</td>\n",
       "      <td>1.000000e+01</td>\n",
       "      <td>8.500000e+01</td>\n",
       "      <td>1.500000e+02</td>\n",
       "      <td>2.200000e+02</td>\n",
       "      <td>4.000000e+03</td>\n",
       "    </tr>\n",
       "    <tr>\n",
       "      <th>guests_included</th>\n",
       "      <td>3585.0</td>\n",
       "      <td>1.429847e+00</td>\n",
       "      <td>1.056787e+00</td>\n",
       "      <td>0.000000e+00</td>\n",
       "      <td>1.000000e+00</td>\n",
       "      <td>1.000000e+00</td>\n",
       "      <td>1.000000e+00</td>\n",
       "      <td>1.400000e+01</td>\n",
       "    </tr>\n",
       "    <tr>\n",
       "      <th>minimum_nights</th>\n",
       "      <td>3585.0</td>\n",
       "      <td>3.171269e+00</td>\n",
       "      <td>8.874133e+00</td>\n",
       "      <td>1.000000e+00</td>\n",
       "      <td>1.000000e+00</td>\n",
       "      <td>2.000000e+00</td>\n",
       "      <td>3.000000e+00</td>\n",
       "      <td>3.000000e+02</td>\n",
       "    </tr>\n",
       "    <tr>\n",
       "      <th>maximum_nights</th>\n",
       "      <td>3585.0</td>\n",
       "      <td>2.872584e+04</td>\n",
       "      <td>1.670136e+06</td>\n",
       "      <td>1.000000e+00</td>\n",
       "      <td>3.650000e+02</td>\n",
       "      <td>1.125000e+03</td>\n",
       "      <td>1.125000e+03</td>\n",
       "      <td>1.000000e+08</td>\n",
       "    </tr>\n",
       "    <tr>\n",
       "      <th>has_availability</th>\n",
       "      <td>0.0</td>\n",
       "      <td>NaN</td>\n",
       "      <td>NaN</td>\n",
       "      <td>NaN</td>\n",
       "      <td>NaN</td>\n",
       "      <td>NaN</td>\n",
       "      <td>NaN</td>\n",
       "      <td>NaN</td>\n",
       "    </tr>\n",
       "    <tr>\n",
       "      <th>availability_30</th>\n",
       "      <td>3585.0</td>\n",
       "      <td>8.649930e+00</td>\n",
       "      <td>1.043533e+01</td>\n",
       "      <td>0.000000e+00</td>\n",
       "      <td>0.000000e+00</td>\n",
       "      <td>4.000000e+00</td>\n",
       "      <td>1.500000e+01</td>\n",
       "      <td>3.000000e+01</td>\n",
       "    </tr>\n",
       "    <tr>\n",
       "      <th>availability_60</th>\n",
       "      <td>3585.0</td>\n",
       "      <td>2.183319e+01</td>\n",
       "      <td>2.186097e+01</td>\n",
       "      <td>0.000000e+00</td>\n",
       "      <td>0.000000e+00</td>\n",
       "      <td>1.600000e+01</td>\n",
       "      <td>4.000000e+01</td>\n",
       "      <td>6.000000e+01</td>\n",
       "    </tr>\n",
       "    <tr>\n",
       "      <th>availability_90</th>\n",
       "      <td>3585.0</td>\n",
       "      <td>3.855816e+01</td>\n",
       "      <td>3.315827e+01</td>\n",
       "      <td>0.000000e+00</td>\n",
       "      <td>0.000000e+00</td>\n",
       "      <td>3.700000e+01</td>\n",
       "      <td>6.800000e+01</td>\n",
       "      <td>9.000000e+01</td>\n",
       "    </tr>\n",
       "    <tr>\n",
       "      <th>availability_365</th>\n",
       "      <td>3585.0</td>\n",
       "      <td>1.793464e+02</td>\n",
       "      <td>1.421362e+02</td>\n",
       "      <td>0.000000e+00</td>\n",
       "      <td>1.900000e+01</td>\n",
       "      <td>1.790000e+02</td>\n",
       "      <td>3.250000e+02</td>\n",
       "      <td>3.650000e+02</td>\n",
       "    </tr>\n",
       "    <tr>\n",
       "      <th>number_of_reviews</th>\n",
       "      <td>3585.0</td>\n",
       "      <td>1.904463e+01</td>\n",
       "      <td>3.557166e+01</td>\n",
       "      <td>0.000000e+00</td>\n",
       "      <td>1.000000e+00</td>\n",
       "      <td>5.000000e+00</td>\n",
       "      <td>2.100000e+01</td>\n",
       "      <td>4.040000e+02</td>\n",
       "    </tr>\n",
       "    <tr>\n",
       "      <th>review_scores_rating</th>\n",
       "      <td>2772.0</td>\n",
       "      <td>9.191667e+01</td>\n",
       "      <td>9.531686e+00</td>\n",
       "      <td>2.000000e+01</td>\n",
       "      <td>8.900000e+01</td>\n",
       "      <td>9.400000e+01</td>\n",
       "      <td>9.825000e+01</td>\n",
       "      <td>1.000000e+02</td>\n",
       "    </tr>\n",
       "    <tr>\n",
       "      <th>review_scores_accuracy</th>\n",
       "      <td>2762.0</td>\n",
       "      <td>9.431571e+00</td>\n",
       "      <td>9.318632e-01</td>\n",
       "      <td>2.000000e+00</td>\n",
       "      <td>9.000000e+00</td>\n",
       "      <td>1.000000e+01</td>\n",
       "      <td>1.000000e+01</td>\n",
       "      <td>1.000000e+01</td>\n",
       "    </tr>\n",
       "    <tr>\n",
       "      <th>review_scores_cleanliness</th>\n",
       "      <td>2767.0</td>\n",
       "      <td>9.258041e+00</td>\n",
       "      <td>1.168977e+00</td>\n",
       "      <td>2.000000e+00</td>\n",
       "      <td>9.000000e+00</td>\n",
       "      <td>1.000000e+01</td>\n",
       "      <td>1.000000e+01</td>\n",
       "      <td>1.000000e+01</td>\n",
       "    </tr>\n",
       "    <tr>\n",
       "      <th>review_scores_checkin</th>\n",
       "      <td>2765.0</td>\n",
       "      <td>9.646293e+00</td>\n",
       "      <td>7.627532e-01</td>\n",
       "      <td>2.000000e+00</td>\n",
       "      <td>9.000000e+00</td>\n",
       "      <td>1.000000e+01</td>\n",
       "      <td>1.000000e+01</td>\n",
       "      <td>1.000000e+01</td>\n",
       "    </tr>\n",
       "    <tr>\n",
       "      <th>review_scores_communication</th>\n",
       "      <td>2767.0</td>\n",
       "      <td>9.646549e+00</td>\n",
       "      <td>7.355070e-01</td>\n",
       "      <td>4.000000e+00</td>\n",
       "      <td>9.000000e+00</td>\n",
       "      <td>1.000000e+01</td>\n",
       "      <td>1.000000e+01</td>\n",
       "      <td>1.000000e+01</td>\n",
       "    </tr>\n",
       "    <tr>\n",
       "      <th>review_scores_location</th>\n",
       "      <td>2763.0</td>\n",
       "      <td>9.414043e+00</td>\n",
       "      <td>9.034360e-01</td>\n",
       "      <td>2.000000e+00</td>\n",
       "      <td>9.000000e+00</td>\n",
       "      <td>1.000000e+01</td>\n",
       "      <td>1.000000e+01</td>\n",
       "      <td>1.000000e+01</td>\n",
       "    </tr>\n",
       "    <tr>\n",
       "      <th>review_scores_value</th>\n",
       "      <td>2764.0</td>\n",
       "      <td>9.168234e+00</td>\n",
       "      <td>1.011116e+00</td>\n",
       "      <td>2.000000e+00</td>\n",
       "      <td>9.000000e+00</td>\n",
       "      <td>9.000000e+00</td>\n",
       "      <td>1.000000e+01</td>\n",
       "      <td>1.000000e+01</td>\n",
       "    </tr>\n",
       "    <tr>\n",
       "      <th>license</th>\n",
       "      <td>0.0</td>\n",
       "      <td>NaN</td>\n",
       "      <td>NaN</td>\n",
       "      <td>NaN</td>\n",
       "      <td>NaN</td>\n",
       "      <td>NaN</td>\n",
       "      <td>NaN</td>\n",
       "      <td>NaN</td>\n",
       "    </tr>\n",
       "    <tr>\n",
       "      <th>jurisdiction_names</th>\n",
       "      <td>0.0</td>\n",
       "      <td>NaN</td>\n",
       "      <td>NaN</td>\n",
       "      <td>NaN</td>\n",
       "      <td>NaN</td>\n",
       "      <td>NaN</td>\n",
       "      <td>NaN</td>\n",
       "      <td>NaN</td>\n",
       "    </tr>\n",
       "    <tr>\n",
       "      <th>calculated_host_listings_count</th>\n",
       "      <td>3585.0</td>\n",
       "      <td>1.273389e+01</td>\n",
       "      <td>2.941508e+01</td>\n",
       "      <td>1.000000e+00</td>\n",
       "      <td>1.000000e+00</td>\n",
       "      <td>2.000000e+00</td>\n",
       "      <td>6.000000e+00</td>\n",
       "      <td>1.360000e+02</td>\n",
       "    </tr>\n",
       "    <tr>\n",
       "      <th>reviews_per_month</th>\n",
       "      <td>2829.0</td>\n",
       "      <td>1.970908e+00</td>\n",
       "      <td>2.120561e+00</td>\n",
       "      <td>1.000000e-02</td>\n",
       "      <td>4.800000e-01</td>\n",
       "      <td>1.170000e+00</td>\n",
       "      <td>2.720000e+00</td>\n",
       "      <td>1.915000e+01</td>\n",
       "    </tr>\n",
       "  </tbody>\n",
       "</table>\n",
       "</div>"
      ],
      "text/plain": [
       "                                 count          mean           std  \\\n",
       "id                              3585.0  8.440875e+06  4.500787e+06   \n",
       "scrape_id                       3585.0  2.016091e+13  8.516813e-01   \n",
       "host_id                         3585.0  2.492311e+07  2.292781e+07   \n",
       "host_listings_count             3585.0  5.890237e+01  1.711197e+02   \n",
       "host_total_listings_count       3585.0  5.890237e+01  1.711197e+02   \n",
       "neighbourhood_group_cleansed       0.0           NaN           NaN   \n",
       "latitude                        3585.0  4.234003e+01  2.440255e-02   \n",
       "longitude                       3585.0 -7.108482e+01  3.156464e-02   \n",
       "accommodates                    3585.0  3.041283e+00  1.778929e+00   \n",
       "bathrooms                       3571.0  1.221647e+00  5.014871e-01   \n",
       "bedrooms                        3575.0  1.255944e+00  7.530596e-01   \n",
       "beds                            3576.0  1.609060e+00  1.011745e+00   \n",
       "square_feet                       56.0  8.584643e+02  6.088743e+02   \n",
       "price                           3585.0  1.739258e+02  1.483313e+02   \n",
       "guests_included                 3585.0  1.429847e+00  1.056787e+00   \n",
       "minimum_nights                  3585.0  3.171269e+00  8.874133e+00   \n",
       "maximum_nights                  3585.0  2.872584e+04  1.670136e+06   \n",
       "has_availability                   0.0           NaN           NaN   \n",
       "availability_30                 3585.0  8.649930e+00  1.043533e+01   \n",
       "availability_60                 3585.0  2.183319e+01  2.186097e+01   \n",
       "availability_90                 3585.0  3.855816e+01  3.315827e+01   \n",
       "availability_365                3585.0  1.793464e+02  1.421362e+02   \n",
       "number_of_reviews               3585.0  1.904463e+01  3.557166e+01   \n",
       "review_scores_rating            2772.0  9.191667e+01  9.531686e+00   \n",
       "review_scores_accuracy          2762.0  9.431571e+00  9.318632e-01   \n",
       "review_scores_cleanliness       2767.0  9.258041e+00  1.168977e+00   \n",
       "review_scores_checkin           2765.0  9.646293e+00  7.627532e-01   \n",
       "review_scores_communication     2767.0  9.646549e+00  7.355070e-01   \n",
       "review_scores_location          2763.0  9.414043e+00  9.034360e-01   \n",
       "review_scores_value             2764.0  9.168234e+00  1.011116e+00   \n",
       "license                            0.0           NaN           NaN   \n",
       "jurisdiction_names                 0.0           NaN           NaN   \n",
       "calculated_host_listings_count  3585.0  1.273389e+01  2.941508e+01   \n",
       "reviews_per_month               2829.0  1.970908e+00  2.120561e+00   \n",
       "\n",
       "                                         min           25%           50%  \\\n",
       "id                              3.353000e+03  4.679319e+06  8.577620e+06   \n",
       "scrape_id                       2.016091e+13  2.016091e+13  2.016091e+13   \n",
       "host_id                         4.240000e+03  6.103425e+06  1.928100e+07   \n",
       "host_listings_count             0.000000e+00  1.000000e+00  2.000000e+00   \n",
       "host_total_listings_count       0.000000e+00  1.000000e+00  2.000000e+00   \n",
       "neighbourhood_group_cleansed             NaN           NaN           NaN   \n",
       "latitude                        4.223594e+01  4.232999e+01  4.234520e+01   \n",
       "longitude                      -7.117179e+01 -7.110508e+01 -7.107843e+01   \n",
       "accommodates                    1.000000e+00  2.000000e+00  2.000000e+00   \n",
       "bathrooms                       0.000000e+00  1.000000e+00  1.000000e+00   \n",
       "bedrooms                        0.000000e+00  1.000000e+00  1.000000e+00   \n",
       "beds                            0.000000e+00  1.000000e+00  1.000000e+00   \n",
       "square_feet                     0.000000e+00  4.150000e+02  8.250000e+02   \n",
       "price                           1.000000e+01  8.500000e+01  1.500000e+02   \n",
       "guests_included                 0.000000e+00  1.000000e+00  1.000000e+00   \n",
       "minimum_nights                  1.000000e+00  1.000000e+00  2.000000e+00   \n",
       "maximum_nights                  1.000000e+00  3.650000e+02  1.125000e+03   \n",
       "has_availability                         NaN           NaN           NaN   \n",
       "availability_30                 0.000000e+00  0.000000e+00  4.000000e+00   \n",
       "availability_60                 0.000000e+00  0.000000e+00  1.600000e+01   \n",
       "availability_90                 0.000000e+00  0.000000e+00  3.700000e+01   \n",
       "availability_365                0.000000e+00  1.900000e+01  1.790000e+02   \n",
       "number_of_reviews               0.000000e+00  1.000000e+00  5.000000e+00   \n",
       "review_scores_rating            2.000000e+01  8.900000e+01  9.400000e+01   \n",
       "review_scores_accuracy          2.000000e+00  9.000000e+00  1.000000e+01   \n",
       "review_scores_cleanliness       2.000000e+00  9.000000e+00  1.000000e+01   \n",
       "review_scores_checkin           2.000000e+00  9.000000e+00  1.000000e+01   \n",
       "review_scores_communication     4.000000e+00  9.000000e+00  1.000000e+01   \n",
       "review_scores_location          2.000000e+00  9.000000e+00  1.000000e+01   \n",
       "review_scores_value             2.000000e+00  9.000000e+00  9.000000e+00   \n",
       "license                                  NaN           NaN           NaN   \n",
       "jurisdiction_names                       NaN           NaN           NaN   \n",
       "calculated_host_listings_count  1.000000e+00  1.000000e+00  2.000000e+00   \n",
       "reviews_per_month               1.000000e-02  4.800000e-01  1.170000e+00   \n",
       "\n",
       "                                         75%           max  \n",
       "id                              1.278953e+07  1.493346e+07  \n",
       "scrape_id                       2.016091e+13  2.016091e+13  \n",
       "host_id                         3.622147e+07  9.385411e+07  \n",
       "host_listings_count             7.000000e+00  7.490000e+02  \n",
       "host_total_listings_count       7.000000e+00  7.490000e+02  \n",
       "neighbourhood_group_cleansed             NaN           NaN  \n",
       "latitude                        4.235469e+01  4.238998e+01  \n",
       "longitude                      -7.106215e+01 -7.100010e+01  \n",
       "accommodates                    4.000000e+00  1.600000e+01  \n",
       "bathrooms                       1.000000e+00  6.000000e+00  \n",
       "bedrooms                        2.000000e+00  5.000000e+00  \n",
       "beds                            2.000000e+00  1.600000e+01  \n",
       "square_feet                     1.200000e+03  2.400000e+03  \n",
       "price                           2.200000e+02  4.000000e+03  \n",
       "guests_included                 1.000000e+00  1.400000e+01  \n",
       "minimum_nights                  3.000000e+00  3.000000e+02  \n",
       "maximum_nights                  1.125000e+03  1.000000e+08  \n",
       "has_availability                         NaN           NaN  \n",
       "availability_30                 1.500000e+01  3.000000e+01  \n",
       "availability_60                 4.000000e+01  6.000000e+01  \n",
       "availability_90                 6.800000e+01  9.000000e+01  \n",
       "availability_365                3.250000e+02  3.650000e+02  \n",
       "number_of_reviews               2.100000e+01  4.040000e+02  \n",
       "review_scores_rating            9.825000e+01  1.000000e+02  \n",
       "review_scores_accuracy          1.000000e+01  1.000000e+01  \n",
       "review_scores_cleanliness       1.000000e+01  1.000000e+01  \n",
       "review_scores_checkin           1.000000e+01  1.000000e+01  \n",
       "review_scores_communication     1.000000e+01  1.000000e+01  \n",
       "review_scores_location          1.000000e+01  1.000000e+01  \n",
       "review_scores_value             1.000000e+01  1.000000e+01  \n",
       "license                                  NaN           NaN  \n",
       "jurisdiction_names                       NaN           NaN  \n",
       "calculated_host_listings_count  6.000000e+00  1.360000e+02  \n",
       "reviews_per_month               2.720000e+00  1.915000e+01  "
      ]
     },
     "execution_count": 16,
     "metadata": {},
     "output_type": "execute_result"
    }
   ],
   "source": [
    "boston.describe().transpose()"
   ]
  },
  {
   "cell_type": "code",
   "execution_count": 17,
   "metadata": {},
   "outputs": [
    {
     "name": "stdout",
     "output_type": "stream",
     "text": [
      "3585\n"
     ]
    },
    {
     "data": {
      "text/html": [
       "<div>\n",
       "<style scoped>\n",
       "    .dataframe tbody tr th:only-of-type {\n",
       "        vertical-align: middle;\n",
       "    }\n",
       "\n",
       "    .dataframe tbody tr th {\n",
       "        vertical-align: top;\n",
       "    }\n",
       "\n",
       "    .dataframe thead th {\n",
       "        text-align: right;\n",
       "    }\n",
       "</style>\n",
       "<table border=\"1\" class=\"dataframe\">\n",
       "  <thead>\n",
       "    <tr style=\"text-align: right;\">\n",
       "      <th></th>\n",
       "      <th>listing_url</th>\n",
       "      <th>last_scraped</th>\n",
       "      <th>name</th>\n",
       "      <th>summary</th>\n",
       "      <th>space</th>\n",
       "      <th>description</th>\n",
       "      <th>experiences_offered</th>\n",
       "      <th>neighborhood_overview</th>\n",
       "      <th>notes</th>\n",
       "      <th>transit</th>\n",
       "      <th>...</th>\n",
       "      <th>extra_people</th>\n",
       "      <th>calendar_updated</th>\n",
       "      <th>calendar_last_scraped</th>\n",
       "      <th>first_review</th>\n",
       "      <th>last_review</th>\n",
       "      <th>requires_license</th>\n",
       "      <th>instant_bookable</th>\n",
       "      <th>cancellation_policy</th>\n",
       "      <th>require_guest_profile_picture</th>\n",
       "      <th>require_guest_phone_verification</th>\n",
       "    </tr>\n",
       "  </thead>\n",
       "  <tbody>\n",
       "    <tr>\n",
       "      <th>count</th>\n",
       "      <td>3585</td>\n",
       "      <td>3585</td>\n",
       "      <td>3585</td>\n",
       "      <td>3442</td>\n",
       "      <td>2528</td>\n",
       "      <td>3585</td>\n",
       "      <td>3585</td>\n",
       "      <td>2170</td>\n",
       "      <td>1610</td>\n",
       "      <td>2295</td>\n",
       "      <td>...</td>\n",
       "      <td>3585</td>\n",
       "      <td>3585</td>\n",
       "      <td>3585</td>\n",
       "      <td>2829</td>\n",
       "      <td>2829</td>\n",
       "      <td>3585</td>\n",
       "      <td>3585</td>\n",
       "      <td>3585</td>\n",
       "      <td>3585</td>\n",
       "      <td>3585</td>\n",
       "    </tr>\n",
       "    <tr>\n",
       "      <th>unique</th>\n",
       "      <td>3585</td>\n",
       "      <td>1</td>\n",
       "      <td>3504</td>\n",
       "      <td>3113</td>\n",
       "      <td>2268</td>\n",
       "      <td>3423</td>\n",
       "      <td>1</td>\n",
       "      <td>1728</td>\n",
       "      <td>1269</td>\n",
       "      <td>1859</td>\n",
       "      <td>...</td>\n",
       "      <td>51</td>\n",
       "      <td>38</td>\n",
       "      <td>1</td>\n",
       "      <td>975</td>\n",
       "      <td>404</td>\n",
       "      <td>1</td>\n",
       "      <td>2</td>\n",
       "      <td>4</td>\n",
       "      <td>2</td>\n",
       "      <td>2</td>\n",
       "    </tr>\n",
       "    <tr>\n",
       "      <th>top</th>\n",
       "      <td>https://www.airbnb.com/rooms/629814</td>\n",
       "      <td>2016-09-07</td>\n",
       "      <td>Lux 2BR by Fenway w/WiFi</td>\n",
       "      <td>The unit is stylishly designed for comfort, va...</td>\n",
       "      <td>The studio's kitchenette comes equipped with a...</td>\n",
       "      <td>Studio offers the luxury of home furnishings w...</td>\n",
       "      <td>none</td>\n",
       "      <td>Conveniently bordering the neighborhoods of th...</td>\n",
       "      <td>Although we do not allow pets in our apartment...</td>\n",
       "      <td>These newly constructed, luxury apartments epi...</td>\n",
       "      <td>...</td>\n",
       "      <td>$0.00</td>\n",
       "      <td>today</td>\n",
       "      <td>2016-09-06</td>\n",
       "      <td>2016-04-05</td>\n",
       "      <td>2016-09-05</td>\n",
       "      <td>f</td>\n",
       "      <td>f</td>\n",
       "      <td>strict</td>\n",
       "      <td>f</td>\n",
       "      <td>f</td>\n",
       "    </tr>\n",
       "    <tr>\n",
       "      <th>freq</th>\n",
       "      <td>1</td>\n",
       "      <td>3585</td>\n",
       "      <td>8</td>\n",
       "      <td>21</td>\n",
       "      <td>17</td>\n",
       "      <td>7</td>\n",
       "      <td>3585</td>\n",
       "      <td>21</td>\n",
       "      <td>44</td>\n",
       "      <td>26</td>\n",
       "      <td>...</td>\n",
       "      <td>2211</td>\n",
       "      <td>833</td>\n",
       "      <td>3585</td>\n",
       "      <td>23</td>\n",
       "      <td>118</td>\n",
       "      <td>3585</td>\n",
       "      <td>2991</td>\n",
       "      <td>1582</td>\n",
       "      <td>3518</td>\n",
       "      <td>3348</td>\n",
       "    </tr>\n",
       "  </tbody>\n",
       "</table>\n",
       "<p>4 rows × 61 columns</p>\n",
       "</div>"
      ],
      "text/plain": [
       "                                listing_url last_scraped  \\\n",
       "count                                  3585         3585   \n",
       "unique                                 3585            1   \n",
       "top     https://www.airbnb.com/rooms/629814   2016-09-07   \n",
       "freq                                      1         3585   \n",
       "\n",
       "                            name  \\\n",
       "count                       3585   \n",
       "unique                      3504   \n",
       "top     Lux 2BR by Fenway w/WiFi   \n",
       "freq                           8   \n",
       "\n",
       "                                                  summary  \\\n",
       "count                                                3442   \n",
       "unique                                               3113   \n",
       "top     The unit is stylishly designed for comfort, va...   \n",
       "freq                                                   21   \n",
       "\n",
       "                                                    space  \\\n",
       "count                                                2528   \n",
       "unique                                               2268   \n",
       "top     The studio's kitchenette comes equipped with a...   \n",
       "freq                                                   17   \n",
       "\n",
       "                                              description experiences_offered  \\\n",
       "count                                                3585                3585   \n",
       "unique                                               3423                   1   \n",
       "top     Studio offers the luxury of home furnishings w...                none   \n",
       "freq                                                    7                3585   \n",
       "\n",
       "                                    neighborhood_overview  \\\n",
       "count                                                2170   \n",
       "unique                                               1728   \n",
       "top     Conveniently bordering the neighborhoods of th...   \n",
       "freq                                                   21   \n",
       "\n",
       "                                                    notes  \\\n",
       "count                                                1610   \n",
       "unique                                               1269   \n",
       "top     Although we do not allow pets in our apartment...   \n",
       "freq                                                   44   \n",
       "\n",
       "                                                  transit  ... extra_people  \\\n",
       "count                                                2295  ...         3585   \n",
       "unique                                               1859  ...           51   \n",
       "top     These newly constructed, luxury apartments epi...  ...        $0.00   \n",
       "freq                                                   26  ...         2211   \n",
       "\n",
       "       calendar_updated calendar_last_scraped first_review last_review  \\\n",
       "count              3585                  3585         2829        2829   \n",
       "unique               38                     1          975         404   \n",
       "top               today            2016-09-06   2016-04-05  2016-09-05   \n",
       "freq                833                  3585           23         118   \n",
       "\n",
       "       requires_license instant_bookable cancellation_policy  \\\n",
       "count              3585             3585                3585   \n",
       "unique                1                2                   4   \n",
       "top                   f                f              strict   \n",
       "freq               3585             2991                1582   \n",
       "\n",
       "       require_guest_profile_picture require_guest_phone_verification  \n",
       "count                           3585                             3585  \n",
       "unique                             2                                2  \n",
       "top                                f                                f  \n",
       "freq                            3518                             3348  \n",
       "\n",
       "[4 rows x 61 columns]"
      ]
     },
     "execution_count": 17,
     "metadata": {},
     "output_type": "execute_result"
    }
   ],
   "source": [
    "print(len(boston))\n",
    "boston.describe(include=[\"object\"])"
   ]
  },
  {
   "cell_type": "code",
   "execution_count": 18,
   "metadata": {},
   "outputs": [
    {
     "data": {
      "text/plain": [
       "host_response_time                  4\n",
       "host_is_superhost                   2\n",
       "host_has_profile_pic                2\n",
       "host_identity_verified              2\n",
       "market                              4\n",
       "is_location_exact                   2\n",
       "room_type                           3\n",
       "bed_type                            5\n",
       "instant_bookable                    2\n",
       "cancellation_policy                 4\n",
       "require_guest_profile_picture       2\n",
       "require_guest_phone_verification    2\n",
       "Name: unique, dtype: object"
      ]
     },
     "execution_count": 18,
     "metadata": {},
     "output_type": "execute_result"
    }
   ],
   "source": [
    "first_condition = boston.describe(include=[\"object\"]).transpose()[\"unique\"] < 10\n",
    "second_condition = boston.describe(include=[\"object\"]).transpose()[\"unique\"] > 1\n",
    "important_parameters_x = boston.describe(include=[\"object\"]).transpose()[\"unique\"][first_condition & second_condition]\n",
    "important_parameters_x"
   ]
  },
  {
   "cell_type": "markdown",
   "metadata": {},
   "source": [
    "Dobieranie zmiennych do modelu, które mają największy wpływ na ostateczny rezultat i autentyczność wyników."
   ]
  },
  {
   "cell_type": "code",
   "execution_count": 19,
   "metadata": {},
   "outputs": [
    {
     "name": "stdout",
     "output_type": "stream",
     "text": [
      "                            OLS Regression Results                            \n",
      "==============================================================================\n",
      "Dep. Variable:                  price   R-squared:                       0.279\n",
      "Model:                            OLS   Adj. R-squared:                  0.278\n",
      "Method:                 Least Squares   F-statistic:                     274.4\n",
      "Date:                Sun, 21 Feb 2021   Prob (F-statistic):          1.10e-248\n",
      "Time:                        12:43:41   Log-Likelihood:                -22258.\n",
      "No. Observations:                3557   AIC:                         4.453e+04\n",
      "Df Residuals:                    3551   BIC:                         4.456e+04\n",
      "Df Model:                           5                                         \n",
      "Covariance Type:            nonrobust                                         \n",
      "=============================================================================================\n",
      "                                coef    std err          t      P>|t|      [0.025      0.975]\n",
      "---------------------------------------------------------------------------------------------\n",
      "Intercept                   110.8867      6.547     16.936      0.000      98.050     123.724\n",
      "room_type[T.Private room]  -105.8443      4.730    -22.379      0.000    -115.117     -96.571\n",
      "room_type[T.Shared room]   -103.6367     14.577     -7.109      0.000    -132.217     -75.056\n",
      "bathrooms                    36.0366      4.707      7.656      0.000      26.808      45.265\n",
      "bedrooms                     36.4973      4.163      8.768      0.000      28.336      44.659\n",
      "beds                         10.0730      3.078      3.273      0.001       4.039      16.107\n",
      "==============================================================================\n",
      "Omnibus:                     6392.820   Durbin-Watson:                   1.847\n",
      "Prob(Omnibus):                  0.000   Jarque-Bera (JB):         13850252.027\n",
      "Skew:                          12.620   Prob(JB):                         0.00\n",
      "Kurtosis:                     307.654   Cond. No.                         19.4\n",
      "==============================================================================\n",
      "\n",
      "Warnings:\n",
      "[1] Standard Errors assume that the covariance matrix of the errors is correctly specified.\n"
     ]
    }
   ],
   "source": [
    "model = smf.ols(\"price ~ bathrooms + bedrooms + beds + room_type\", data=boston).fit()\n",
    "\n",
    "print(model.summary())"
   ]
  },
  {
   "cell_type": "code",
   "execution_count": 20,
   "metadata": {},
   "outputs": [
    {
     "name": "stdout",
     "output_type": "stream",
     "text": [
      "3585\n"
     ]
    }
   ],
   "source": [
    "bostotn_important = boston[[\"bathrooms\", \"bedrooms\", \"beds\", \"room_type\", \"price\"]]\n",
    "print(len(bostotn_important))"
   ]
  },
  {
   "cell_type": "code",
   "execution_count": 21,
   "metadata": {},
   "outputs": [
    {
     "data": {
      "text/html": [
       "<div>\n",
       "<style scoped>\n",
       "    .dataframe tbody tr th:only-of-type {\n",
       "        vertical-align: middle;\n",
       "    }\n",
       "\n",
       "    .dataframe tbody tr th {\n",
       "        vertical-align: top;\n",
       "    }\n",
       "\n",
       "    .dataframe thead th {\n",
       "        text-align: right;\n",
       "    }\n",
       "</style>\n",
       "<table border=\"1\" class=\"dataframe\">\n",
       "  <thead>\n",
       "    <tr style=\"text-align: right;\">\n",
       "      <th></th>\n",
       "      <th>bathrooms</th>\n",
       "      <th>bedrooms</th>\n",
       "      <th>beds</th>\n",
       "      <th>room_type</th>\n",
       "      <th>price</th>\n",
       "    </tr>\n",
       "  </thead>\n",
       "  <tbody>\n",
       "    <tr>\n",
       "      <th>0</th>\n",
       "      <td>1.5</td>\n",
       "      <td>2.0</td>\n",
       "      <td>3.0</td>\n",
       "      <td>Entire home/apt</td>\n",
       "      <td>250.0</td>\n",
       "    </tr>\n",
       "    <tr>\n",
       "      <th>1</th>\n",
       "      <td>1.0</td>\n",
       "      <td>1.0</td>\n",
       "      <td>1.0</td>\n",
       "      <td>Private room</td>\n",
       "      <td>65.0</td>\n",
       "    </tr>\n",
       "    <tr>\n",
       "      <th>2</th>\n",
       "      <td>1.0</td>\n",
       "      <td>1.0</td>\n",
       "      <td>1.0</td>\n",
       "      <td>Private room</td>\n",
       "      <td>65.0</td>\n",
       "    </tr>\n",
       "    <tr>\n",
       "      <th>3</th>\n",
       "      <td>1.0</td>\n",
       "      <td>1.0</td>\n",
       "      <td>2.0</td>\n",
       "      <td>Private room</td>\n",
       "      <td>75.0</td>\n",
       "    </tr>\n",
       "    <tr>\n",
       "      <th>4</th>\n",
       "      <td>1.5</td>\n",
       "      <td>1.0</td>\n",
       "      <td>2.0</td>\n",
       "      <td>Private room</td>\n",
       "      <td>79.0</td>\n",
       "    </tr>\n",
       "  </tbody>\n",
       "</table>\n",
       "</div>"
      ],
      "text/plain": [
       "   bathrooms  bedrooms  beds        room_type  price\n",
       "0        1.5       2.0   3.0  Entire home/apt  250.0\n",
       "1        1.0       1.0   1.0     Private room   65.0\n",
       "2        1.0       1.0   1.0     Private room   65.0\n",
       "3        1.0       1.0   2.0     Private room   75.0\n",
       "4        1.5       1.0   2.0     Private room   79.0"
      ]
     },
     "execution_count": 21,
     "metadata": {},
     "output_type": "execute_result"
    }
   ],
   "source": [
    "bostotn_important.head()"
   ]
  },
  {
   "cell_type": "code",
   "execution_count": 22,
   "metadata": {},
   "outputs": [
    {
     "name": "stdout",
     "output_type": "stream",
     "text": [
      "<class 'pandas.core.frame.DataFrame'>\n",
      "RangeIndex: 3585 entries, 0 to 3584\n",
      "Data columns (total 5 columns):\n",
      " #   Column     Non-Null Count  Dtype  \n",
      "---  ------     --------------  -----  \n",
      " 0   bathrooms  3571 non-null   float64\n",
      " 1   bedrooms   3575 non-null   float64\n",
      " 2   beds       3576 non-null   float64\n",
      " 3   room_type  3585 non-null   object \n",
      " 4   price      3585 non-null   float64\n",
      "dtypes: float64(4), object(1)\n",
      "memory usage: 140.2+ KB\n"
     ]
    }
   ],
   "source": [
    "bostotn_important.info()"
   ]
  },
  {
   "cell_type": "code",
   "execution_count": 23,
   "metadata": {},
   "outputs": [
    {
     "name": "stdout",
     "output_type": "stream",
     "text": [
      "3585\n",
      "3557\n"
     ]
    }
   ],
   "source": [
    "print(len(bostotn_important))\n",
    "bostotn_important = bostotn_important.dropna()\n",
    "print(len(bostotn_important))"
   ]
  },
  {
   "cell_type": "code",
   "execution_count": 24,
   "metadata": {},
   "outputs": [
    {
     "name": "stdout",
     "output_type": "stream",
     "text": [
      "13\n",
      "287\n",
      "4\n",
      "All rows: 3557\n"
     ]
    }
   ],
   "source": [
    "absence_bathrooms = bostotn_important[\"bathrooms\"] == 0\n",
    "absence_bedrooms = bostotn_important[\"bedrooms\"] == 0\n",
    "absence_beds = bostotn_important[\"beds\"] == 0\n",
    "\n",
    "print(len(bostotn_important[absence_bathrooms]))\n",
    "print(len(bostotn_important[absence_bedrooms]))\n",
    "print(len(bostotn_important[absence_beds]))\n",
    "\n",
    "print(\"All rows: \" + str(len(bostotn_important)))"
   ]
  },
  {
   "cell_type": "code",
   "execution_count": 25,
   "metadata": {},
   "outputs": [
    {
     "data": {
      "text/plain": [
       "3557"
      ]
     },
     "execution_count": 25,
     "metadata": {},
     "output_type": "execute_result"
    }
   ],
   "source": [
    "len(bostotn_important)"
   ]
  },
  {
   "cell_type": "markdown",
   "metadata": {},
   "source": [
    "Standaryzacja danych."
   ]
  },
  {
   "cell_type": "code",
   "execution_count": 26,
   "metadata": {},
   "outputs": [],
   "source": [
    "bostotn_important[\"room_type\"] = bostotn_important[\"room_type\"].apply(lambda change_describe: change_describe.replace(\"Entire home/apt\",\"0\"))\n",
    "bostotn_important[\"room_type\"] = bostotn_important[\"room_type\"].apply(lambda change_describe: change_describe.replace(\"Private room\",\"1\"))\n",
    "bostotn_important[\"room_type\"] = bostotn_important[\"room_type\"].apply(lambda change_describe: change_describe.replace(\"Shared room\",\"2\"))"
   ]
  },
  {
   "cell_type": "code",
   "execution_count": 27,
   "metadata": {},
   "outputs": [],
   "source": [
    "bostotn_important[\"room_type\"] = bostotn_important[\"room_type\"].astype(\"float\")"
   ]
  },
  {
   "cell_type": "code",
   "execution_count": 28,
   "metadata": {},
   "outputs": [
    {
     "name": "stdout",
     "output_type": "stream",
     "text": [
      "<class 'pandas.core.frame.DataFrame'>\n",
      "Int64Index: 3557 entries, 0 to 3584\n",
      "Data columns (total 5 columns):\n",
      " #   Column     Non-Null Count  Dtype  \n",
      "---  ------     --------------  -----  \n",
      " 0   bathrooms  3557 non-null   float64\n",
      " 1   bedrooms   3557 non-null   float64\n",
      " 2   beds       3557 non-null   float64\n",
      " 3   room_type  3557 non-null   float64\n",
      " 4   price      3557 non-null   float64\n",
      "dtypes: float64(5)\n",
      "memory usage: 166.7 KB\n"
     ]
    }
   ],
   "source": [
    "bostotn_important.info()"
   ]
  },
  {
   "cell_type": "code",
   "execution_count": 29,
   "metadata": {},
   "outputs": [
    {
     "name": "stdout",
     "output_type": "stream",
     "text": [
      "2294\n"
     ]
    },
    {
     "data": {
      "text/plain": [
       "bathrooms      1.0\n",
       "bedrooms       1.0\n",
       "beds          16.0\n",
       "room_type      0.0\n",
       "price        229.0\n",
       "Name: 2294, dtype: float64"
      ]
     },
     "execution_count": 29,
     "metadata": {},
     "output_type": "execute_result"
    }
   ],
   "source": [
    "print(bostotn_important[\"beds\"].idxmax())\n",
    "bostotn_important.loc[bostotn_important[\"beds\"].idxmax()]"
   ]
  },
  {
   "cell_type": "code",
   "execution_count": 30,
   "metadata": {},
   "outputs": [],
   "source": [
    "bostotn_important = bostotn_important.drop(index=bostotn_important[\"beds\"].idxmax())"
   ]
  },
  {
   "cell_type": "code",
   "execution_count": 31,
   "metadata": {},
   "outputs": [
    {
     "data": {
      "text/plain": [
       "9.0"
      ]
     },
     "execution_count": 31,
     "metadata": {},
     "output_type": "execute_result"
    }
   ],
   "source": [
    "bostotn_important[\"beds\"].max()"
   ]
  },
  {
   "cell_type": "code",
   "execution_count": 32,
   "metadata": {},
   "outputs": [
    {
     "name": "stdout",
     "output_type": "stream",
     "text": [
      "2285\n",
      "2285\n"
     ]
    },
    {
     "data": {
      "text/plain": [
       "bathrooms       1.0\n",
       "bedrooms        1.0\n",
       "beds            2.0\n",
       "room_type       0.0\n",
       "price        4000.0\n",
       "Name: 2285, dtype: float64"
      ]
     },
     "execution_count": 32,
     "metadata": {},
     "output_type": "execute_result"
    }
   ],
   "source": [
    "print(bostotn_important[\"price\"].idxmax())\n",
    "bostotn_important.loc[bostotn_important[\"price\"].idxmax()]\n",
    "print(bostotn_important[\"price\"].idxmax())\n",
    "bostotn_important.loc[bostotn_important[\"price\"].idxmax()]"
   ]
  },
  {
   "cell_type": "code",
   "execution_count": 33,
   "metadata": {},
   "outputs": [],
   "source": [
    "bostotn_important = bostotn_important.drop(index=bostotn_important[\"price\"].idxmax())\n",
    "bostotn_important = bostotn_important.drop(index=bostotn_important[\"price\"].idxmax())"
   ]
  },
  {
   "cell_type": "code",
   "execution_count": 34,
   "metadata": {},
   "outputs": [
    {
     "data": {
      "text/html": [
       "<div>\n",
       "<style scoped>\n",
       "    .dataframe tbody tr th:only-of-type {\n",
       "        vertical-align: middle;\n",
       "    }\n",
       "\n",
       "    .dataframe tbody tr th {\n",
       "        vertical-align: top;\n",
       "    }\n",
       "\n",
       "    .dataframe thead th {\n",
       "        text-align: right;\n",
       "    }\n",
       "</style>\n",
       "<table border=\"1\" class=\"dataframe\">\n",
       "  <thead>\n",
       "    <tr style=\"text-align: right;\">\n",
       "      <th></th>\n",
       "      <th>bathrooms</th>\n",
       "      <th>bedrooms</th>\n",
       "      <th>beds</th>\n",
       "      <th>room_type</th>\n",
       "      <th>price</th>\n",
       "    </tr>\n",
       "  </thead>\n",
       "  <tbody>\n",
       "    <tr>\n",
       "      <th>0</th>\n",
       "      <td>1.5</td>\n",
       "      <td>2.0</td>\n",
       "      <td>3.0</td>\n",
       "      <td>0.0</td>\n",
       "      <td>250.0</td>\n",
       "    </tr>\n",
       "    <tr>\n",
       "      <th>1</th>\n",
       "      <td>1.0</td>\n",
       "      <td>1.0</td>\n",
       "      <td>1.0</td>\n",
       "      <td>1.0</td>\n",
       "      <td>65.0</td>\n",
       "    </tr>\n",
       "    <tr>\n",
       "      <th>2</th>\n",
       "      <td>1.0</td>\n",
       "      <td>1.0</td>\n",
       "      <td>1.0</td>\n",
       "      <td>1.0</td>\n",
       "      <td>65.0</td>\n",
       "    </tr>\n",
       "    <tr>\n",
       "      <th>3</th>\n",
       "      <td>1.0</td>\n",
       "      <td>1.0</td>\n",
       "      <td>2.0</td>\n",
       "      <td>1.0</td>\n",
       "      <td>75.0</td>\n",
       "    </tr>\n",
       "    <tr>\n",
       "      <th>4</th>\n",
       "      <td>1.5</td>\n",
       "      <td>1.0</td>\n",
       "      <td>2.0</td>\n",
       "      <td>1.0</td>\n",
       "      <td>79.0</td>\n",
       "    </tr>\n",
       "  </tbody>\n",
       "</table>\n",
       "</div>"
      ],
      "text/plain": [
       "   bathrooms  bedrooms  beds  room_type  price\n",
       "0        1.5       2.0   3.0        0.0  250.0\n",
       "1        1.0       1.0   1.0        1.0   65.0\n",
       "2        1.0       1.0   1.0        1.0   65.0\n",
       "3        1.0       1.0   2.0        1.0   75.0\n",
       "4        1.5       1.0   2.0        1.0   79.0"
      ]
     },
     "execution_count": 34,
     "metadata": {},
     "output_type": "execute_result"
    }
   ],
   "source": [
    "bostotn_important.head()"
   ]
  },
  {
   "cell_type": "code",
   "execution_count": 35,
   "metadata": {},
   "outputs": [],
   "source": [
    "scaler = StandardScaler()"
   ]
  },
  {
   "cell_type": "code",
   "execution_count": 36,
   "metadata": {},
   "outputs": [],
   "source": [
    "X = bostotn_important.drop(labels=[\"price\"],axis=1)\n",
    "X_scl = scaler.fit_transform(X)\n"
   ]
  },
  {
   "cell_type": "code",
   "execution_count": 37,
   "metadata": {},
   "outputs": [
    {
     "name": "stdout",
     "output_type": "stream",
     "text": [
      "3554\n"
     ]
    },
    {
     "data": {
      "text/plain": [
       "array([[ 0.55269045,  0.9845902 ,  1.41404146, -0.79665698],\n",
       "       [-0.44288069, -0.34037518, -0.61728568,  1.06238366],\n",
       "       [-0.44288069, -0.34037518, -0.61728568,  1.06238366],\n",
       "       ...,\n",
       "       [-0.44288069, -0.34037518, -0.61728568, -0.79665698],\n",
       "       [-0.44288069, -0.34037518, -0.61728568,  1.06238366],\n",
       "       [-0.44288069, -0.34037518, -0.61728568,  1.06238366]])"
      ]
     },
     "execution_count": 37,
     "metadata": {},
     "output_type": "execute_result"
    }
   ],
   "source": [
    "print(len(X_scl))\n",
    "X_scl"
   ]
  },
  {
   "cell_type": "code",
   "execution_count": 38,
   "metadata": {},
   "outputs": [
    {
     "name": "stdout",
     "output_type": "stream",
     "text": [
      "3554\n"
     ]
    },
    {
     "data": {
      "text/plain": [
       "array([250.,  65.,  65., ..., 198.,  65.,  65.])"
      ]
     },
     "execution_count": 38,
     "metadata": {},
     "output_type": "execute_result"
    }
   ],
   "source": [
    "y = bostotn_important[\"price\"].to_numpy(dtype = \"float64\")\n",
    "print(len(y))\n",
    "y"
   ]
  },
  {
   "cell_type": "code",
   "execution_count": 39,
   "metadata": {},
   "outputs": [],
   "source": [
    "X_train, X_test, y_train, y_test = train_test_split(X_scl, y, test_size= 0.2, random_state=0)"
   ]
  },
  {
   "cell_type": "code",
   "execution_count": 40,
   "metadata": {},
   "outputs": [
    {
     "name": "stdout",
     "output_type": "stream",
     "text": [
      "X_train shape: (2843, 4)\n",
      "X_test shape: (711, 4)\n",
      "y_train shape: (2843,)\n",
      "y_train shape: (711,)\n"
     ]
    }
   ],
   "source": [
    "print(\"X_train shape: {}\".format(X_train.shape))\n",
    "print(\"X_test shape: {}\".format(X_test.shape))\n",
    "print(\"y_train shape: {}\".format(y_train.shape))\n",
    "print(\"y_train shape: {}\".format(y_test.shape))"
   ]
  },
  {
   "cell_type": "markdown",
   "metadata": {},
   "source": [
    "Wizualizacja kilku istotnych danych."
   ]
  },
  {
   "cell_type": "code",
   "execution_count": 41,
   "metadata": {},
   "outputs": [
    {
     "data": {
      "text/plain": [
       "Entire home/apt    2127\n",
       "Private room       1378\n",
       "Shared room          80\n",
       "Name: room_type, dtype: int64"
      ]
     },
     "execution_count": 41,
     "metadata": {},
     "output_type": "execute_result"
    }
   ],
   "source": [
    "boston[\"room_type\"].value_counts()"
   ]
  },
  {
   "cell_type": "code",
   "execution_count": 42,
   "metadata": {},
   "outputs": [
    {
     "data": {
      "text/plain": [
       "<matplotlib.axes._subplots.AxesSubplot at 0x281278df748>"
      ]
     },
     "execution_count": 42,
     "metadata": {},
     "output_type": "execute_result"
    },
    {
     "data": {
      "image/png": "[encoded data removed]",
      "text/plain": [
       "<Figure size 432x288 with 1 Axes>"
      ]
     },
     "metadata": {},
     "output_type": "display_data"
    }
   ],
   "source": [
    "boston[\"room_type\"].value_counts().plot(kind=\"pie\")"
   ]
  },
  {
   "cell_type": "code",
   "execution_count": 43,
   "metadata": {},
   "outputs": [
    {
     "data": {
      "text/plain": [
       "Apartment          2612\n",
       "House               562\n",
       "Condominium         231\n",
       "Townhouse            54\n",
       "Bed & Breakfast      41\n",
       "Loft                 39\n",
       "Other                17\n",
       "Boat                 12\n",
       "Villa                 6\n",
       "Entire Floor          4\n",
       "Dorm                  2\n",
       "Guesthouse            1\n",
       "Camper/RV             1\n",
       "Name: property_type, dtype: int64"
      ]
     },
     "execution_count": 43,
     "metadata": {},
     "output_type": "execute_result"
    }
   ],
   "source": [
    "boston[\"property_type\"].value_counts()"
   ]
  },
  {
   "cell_type": "code",
   "execution_count": 44,
   "metadata": {},
   "outputs": [
    {
     "data": {
      "text/plain": [
       "<matplotlib.axes._subplots.AxesSubplot at 0x2812797abc8>"
      ]
     },
     "execution_count": 44,
     "metadata": {},
     "output_type": "execute_result"
    },
    {
     "data": {
      "image/png": "[encoded data removed]",
      "text/plain": [
       "<Figure size 432x288 with 1 Axes>"
      ]
     },
     "metadata": {},
     "output_type": "display_data"
    }
   ],
   "source": [
    "boston[\"property_type\"].value_counts()[boston[\"property_type\"].value_counts() > 40].plot(kind=\"pie\")"
   ]
  },
  {
   "cell_type": "code",
   "execution_count": 84,
   "metadata": {},
   "outputs": [
    {
     "data": {
      "image/png": "[encoded data removed]",
      "text/plain": [
       "<Figure size 432x288 with 1 Axes>"
      ]
     },
     "metadata": {},
     "output_type": "display_data"
    }
   ],
   "source": [
    "boston[\"price\"].plot(kind=\"hist\",bins=50, xlim = [0,1400], ylim=[0,600])\n",
    "plt.style.use(\"seaborn-darkgrid\")\n"
   ]
  },
  {
   "cell_type": "code",
   "execution_count": 46,
   "metadata": {},
   "outputs": [
    {
     "data": {
      "text/plain": [
       "1400.0"
      ]
     },
     "execution_count": 46,
     "metadata": {},
     "output_type": "execute_result"
    }
   ],
   "source": [
    "bostotn_important[\"price\"].max()"
   ]
  },
  {
   "cell_type": "code",
   "execution_count": 47,
   "metadata": {},
   "outputs": [
    {
     "data": {
      "text/plain": [
       "['bathrooms', 'bedrooms', 'beds', 'room_type', 'price']"
      ]
     },
     "execution_count": 47,
     "metadata": {},
     "output_type": "execute_result"
    }
   ],
   "source": [
    "list_columns = list(bostotn_important.columns)\n",
    "list_columns"
   ]
  },
  {
   "cell_type": "code",
   "execution_count": 48,
   "metadata": {},
   "outputs": [
    {
     "data": {
      "text/html": [
       "<div>\n",
       "<style scoped>\n",
       "    .dataframe tbody tr th:only-of-type {\n",
       "        vertical-align: middle;\n",
       "    }\n",
       "\n",
       "    .dataframe tbody tr th {\n",
       "        vertical-align: top;\n",
       "    }\n",
       "\n",
       "    .dataframe thead th {\n",
       "        text-align: right;\n",
       "    }\n",
       "</style>\n",
       "<table border=\"1\" class=\"dataframe\">\n",
       "  <thead>\n",
       "    <tr style=\"text-align: right;\">\n",
       "      <th></th>\n",
       "      <th>bathrooms</th>\n",
       "      <th>bedrooms</th>\n",
       "      <th>beds</th>\n",
       "      <th>room_type</th>\n",
       "      <th>price</th>\n",
       "    </tr>\n",
       "  </thead>\n",
       "  <tbody>\n",
       "    <tr>\n",
       "      <th>bathrooms</th>\n",
       "      <td>1.000000</td>\n",
       "      <td>0.430489</td>\n",
       "      <td>0.359377</td>\n",
       "      <td>-0.075255</td>\n",
       "      <td>0.288585</td>\n",
       "    </tr>\n",
       "    <tr>\n",
       "      <th>bedrooms</th>\n",
       "      <td>0.430489</td>\n",
       "      <td>1.000000</td>\n",
       "      <td>0.733106</td>\n",
       "      <td>-0.271162</td>\n",
       "      <td>0.452700</td>\n",
       "    </tr>\n",
       "    <tr>\n",
       "      <th>beds</th>\n",
       "      <td>0.359377</td>\n",
       "      <td>0.733106</td>\n",
       "      <td>1.000000</td>\n",
       "      <td>-0.358414</td>\n",
       "      <td>0.444346</td>\n",
       "    </tr>\n",
       "    <tr>\n",
       "      <th>room_type</th>\n",
       "      <td>-0.075255</td>\n",
       "      <td>-0.271162</td>\n",
       "      <td>-0.358414</td>\n",
       "      <td>1.000000</td>\n",
       "      <td>-0.484897</td>\n",
       "    </tr>\n",
       "    <tr>\n",
       "      <th>price</th>\n",
       "      <td>0.288585</td>\n",
       "      <td>0.452700</td>\n",
       "      <td>0.444346</td>\n",
       "      <td>-0.484897</td>\n",
       "      <td>1.000000</td>\n",
       "    </tr>\n",
       "  </tbody>\n",
       "</table>\n",
       "</div>"
      ],
      "text/plain": [
       "           bathrooms  bedrooms      beds  room_type     price\n",
       "bathrooms   1.000000  0.430489  0.359377  -0.075255  0.288585\n",
       "bedrooms    0.430489  1.000000  0.733106  -0.271162  0.452700\n",
       "beds        0.359377  0.733106  1.000000  -0.358414  0.444346\n",
       "room_type  -0.075255 -0.271162 -0.358414   1.000000 -0.484897\n",
       "price       0.288585  0.452700  0.444346  -0.484897  1.000000"
      ]
     },
     "execution_count": 48,
     "metadata": {},
     "output_type": "execute_result"
    }
   ],
   "source": [
    "corr = bostotn_important.corr()\n",
    "corr"
   ]
  },
  {
   "cell_type": "code",
   "execution_count": 49,
   "metadata": {},
   "outputs": [
    {
     "data": {
      "text/plain": [
       "<matplotlib.axes._subplots.AxesSubplot at 0x28127f99f08>"
      ]
     },
     "execution_count": 49,
     "metadata": {},
     "output_type": "execute_result"
    },
    {
     "data": {
      "image/png": "[encoded data removed]",
      "text/plain": [
       "<Figure size 576x432 with 2 Axes>"
      ]
     },
     "metadata": {},
     "output_type": "display_data"
    }
   ],
   "source": [
    "sns.set(style=\"white\")\n",
    "mask = np.zeros_like(corr, dtype=np.bool)\n",
    "mask[np.triu_indices_from(mask)] = True\n",
    "f, ax = plt.subplots(figsize=(8, 6))\n",
    "cmap = sns.diverging_palette(220, 10, as_cmap=True)\n",
    "sns.heatmap(corr, mask=mask, cmap=cmap, vmax=.3, center=0,\n",
    "            square=True, linewidths=.5, cbar_kws={\"shrink\": .5})"
   ]
  },
  {
   "cell_type": "code",
   "execution_count": 50,
   "metadata": {},
   "outputs": [
    {
     "data": {
      "text/plain": [
       "price        1.000000\n",
       "bedrooms     0.452700\n",
       "beds         0.444346\n",
       "bathrooms    0.288585\n",
       "room_type   -0.484897\n",
       "Name: price, dtype: float64"
      ]
     },
     "execution_count": 50,
     "metadata": {},
     "output_type": "execute_result"
    }
   ],
   "source": [
    "bostotn_important.corr()['price'].sort_values(ascending=False)"
   ]
  },
  {
   "cell_type": "markdown",
   "metadata": {},
   "source": [
    "Sprawdzenie korelacji pomiędzy wybranymi zmiennymi."
   ]
  },
  {
   "cell_type": "code",
   "execution_count": 51,
   "metadata": {},
   "outputs": [
    {
     "name": "stderr",
     "output_type": "stream",
     "text": [
      "The `size` parameter has been renamed to `height`; please update your code.\n"
     ]
    },
    {
     "data": {
      "image/png": "[encoded data removed]",
      "text/plain": [
       "<Figure size 1080x1080 with 30 Axes>"
      ]
     },
     "metadata": {},
     "output_type": "display_data"
    }
   ],
   "source": [
    "sns.pairplot(bostotn_important,size=3)\n",
    "plt.tight_layout()\n",
    "plt.style.use(\"seaborn-darkgrid\")\n",
    "\n",
    "plt.show()"
   ]
  },
  {
   "cell_type": "markdown",
   "metadata": {},
   "source": [
    "Tworzenie obiektu regresji liniowej."
   ]
  },
  {
   "cell_type": "code",
   "execution_count": 52,
   "metadata": {},
   "outputs": [],
   "source": [
    "regressor = LinearRegression()"
   ]
  },
  {
   "cell_type": "code",
   "execution_count": 53,
   "metadata": {},
   "outputs": [
    {
     "data": {
      "text/plain": [
       "array([[-0.44288069, -0.34037518,  2.42970503, -0.79665698],\n",
       "       [ 1.54826158, -0.34037518, -0.61728568,  1.06238366],\n",
       "       [-0.44288069, -1.66534056, -0.61728568, -0.79665698],\n",
       "       ...,\n",
       "       [-0.44288069, -0.34037518, -0.61728568, -0.79665698],\n",
       "       [-0.44288069, -1.66534056, -0.61728568, -0.79665698],\n",
       "       [-0.44288069, -0.34037518, -0.61728568,  1.06238366]])"
      ]
     },
     "execution_count": 53,
     "metadata": {},
     "output_type": "execute_result"
    }
   ],
   "source": [
    "X_train"
   ]
  },
  {
   "cell_type": "code",
   "execution_count": 54,
   "metadata": {},
   "outputs": [
    {
     "data": {
      "text/plain": [
       "array([130.,  80., 199., ...,  65., 130.,  45.])"
      ]
     },
     "execution_count": 54,
     "metadata": {},
     "output_type": "execute_result"
    }
   ],
   "source": [
    "y_train"
   ]
  },
  {
   "cell_type": "code",
   "execution_count": 55,
   "metadata": {},
   "outputs": [
    {
     "name": "stdout",
     "output_type": "stream",
     "text": [
      "2843\n",
      "711\n"
     ]
    }
   ],
   "source": [
    "print(len(X_train))\n",
    "print(len(X_test))"
   ]
  },
  {
   "cell_type": "code",
   "execution_count": 56,
   "metadata": {},
   "outputs": [
    {
     "data": {
      "text/plain": [
       "LinearRegression(copy_X=True, fit_intercept=True, n_jobs=None, normalize=False)"
      ]
     },
     "execution_count": 56,
     "metadata": {},
     "output_type": "execute_result"
    }
   ],
   "source": [
    "regressor.fit(X_train,y_train)"
   ]
  },
  {
   "cell_type": "code",
   "execution_count": 57,
   "metadata": {},
   "outputs": [
    {
     "data": {
      "text/plain": [
       "array([112.99096422,  99.01265494, 186.89783666,  99.01265494,\n",
       "       294.76303201,  99.01265494, 310.54249893, 246.91901015,\n",
       "       186.89783666,  11.12747322, 112.99096422, 186.89783666,\n",
       "       248.72016779, 214.85445522, 262.69847708])"
      ]
     },
     "execution_count": 57,
     "metadata": {},
     "output_type": "execute_result"
    }
   ],
   "source": [
    "y_pred = regressor.predict(X_test)\n",
    "y_pred[:15]"
   ]
  },
  {
   "cell_type": "code",
   "execution_count": 58,
   "metadata": {},
   "outputs": [
    {
     "data": {
      "text/plain": [
       "[]"
      ]
     },
     "execution_count": 58,
     "metadata": {},
     "output_type": "execute_result"
    },
    {
     "data": {
      "image/png": "[encoded data removed]",
      "text/plain": [
       "<Figure size 576x432 with 1 Axes>"
      ]
     },
     "metadata": {},
     "output_type": "display_data"
    }
   ],
   "source": [
    "plt.figure(figsize=(8, 6))\n",
    "plt.title(\"Linear Regression train vs predict\")\n",
    "plt.xlabel(\"variable goal [bedrooms]\")\n",
    "plt.ylabel(\"variable goal [price]\")\n",
    "plt.scatter(X_train[:,2], y_train, label=\"train\", color=\"gray\", alpha=0.5)\n",
    "plt.scatter(X_test[:,2], y_pred, label=\"test\", color=\"gold\", alpha=0.5)\n",
    "plt.style.use(\"seaborn-darkgrid\")\n",
    "plt.legend()\n",
    "plt.plot()"
   ]
  },
  {
   "cell_type": "code",
   "execution_count": 59,
   "metadata": {},
   "outputs": [
    {
     "data": {
      "text/plain": [
       "[]"
      ]
     },
     "execution_count": 59,
     "metadata": {},
     "output_type": "execute_result"
    },
    {
     "data": {
      "image/png": "[encoded data removed]",
      "text/plain": [
       "<Figure size 576x432 with 1 Axes>"
      ]
     },
     "metadata": {},
     "output_type": "display_data"
    }
   ],
   "source": [
    "plt.figure(figsize=(8, 6))\n",
    "plt.title(\"Linear Regression train vs predict\")\n",
    "plt.xlabel(\"variable goal [beds]\")\n",
    "plt.ylabel(\"variable goal [price]\")\n",
    "plt.scatter(X_train[:,1], y_train, label=\"train\", color=\"green\", alpha=0.5)\n",
    "plt.scatter(X_test[:,1], y_pred, label=\"test\", color=\"blue\", alpha=0.5)\n",
    "plt.style.use(\"seaborn-darkgrid\")\n",
    "plt.legend()\n",
    "plt.plot()"
   ]
  },
  {
   "cell_type": "code",
   "execution_count": 60,
   "metadata": {},
   "outputs": [
    {
     "data": {
      "text/plain": [
       "array([ 14.04049277,  26.91909606,  11.98935554, -47.27448124])"
      ]
     },
     "execution_count": 60,
     "metadata": {},
     "output_type": "execute_result"
    }
   ],
   "source": [
    "regressor.coef_"
   ]
  },
  {
   "cell_type": "code",
   "execution_count": 61,
   "metadata": {},
   "outputs": [
    {
     "data": {
      "text/plain": [
       "172.01800414882058"
      ]
     },
     "execution_count": 61,
     "metadata": {},
     "output_type": "execute_result"
    }
   ],
   "source": [
    "regressor.intercept_"
   ]
  },
  {
   "cell_type": "markdown",
   "metadata": {},
   "source": [
    "# lasso"
   ]
  },
  {
   "cell_type": "code",
   "execution_count": 62,
   "metadata": {},
   "outputs": [],
   "source": [
    "boston = bostotn_important"
   ]
  },
  {
   "cell_type": "code",
   "execution_count": 63,
   "metadata": {},
   "outputs": [
    {
     "data": {
      "text/html": [
       "<div>\n",
       "<style scoped>\n",
       "    .dataframe tbody tr th:only-of-type {\n",
       "        vertical-align: middle;\n",
       "    }\n",
       "\n",
       "    .dataframe tbody tr th {\n",
       "        vertical-align: top;\n",
       "    }\n",
       "\n",
       "    .dataframe thead th {\n",
       "        text-align: right;\n",
       "    }\n",
       "</style>\n",
       "<table border=\"1\" class=\"dataframe\">\n",
       "  <thead>\n",
       "    <tr style=\"text-align: right;\">\n",
       "      <th></th>\n",
       "      <th>bathrooms</th>\n",
       "      <th>bedrooms</th>\n",
       "      <th>beds</th>\n",
       "      <th>room_type</th>\n",
       "      <th>price</th>\n",
       "    </tr>\n",
       "  </thead>\n",
       "  <tbody>\n",
       "    <tr>\n",
       "      <th>0</th>\n",
       "      <td>1.5</td>\n",
       "      <td>2.0</td>\n",
       "      <td>3.0</td>\n",
       "      <td>0.0</td>\n",
       "      <td>250.0</td>\n",
       "    </tr>\n",
       "    <tr>\n",
       "      <th>1</th>\n",
       "      <td>1.0</td>\n",
       "      <td>1.0</td>\n",
       "      <td>1.0</td>\n",
       "      <td>1.0</td>\n",
       "      <td>65.0</td>\n",
       "    </tr>\n",
       "    <tr>\n",
       "      <th>2</th>\n",
       "      <td>1.0</td>\n",
       "      <td>1.0</td>\n",
       "      <td>1.0</td>\n",
       "      <td>1.0</td>\n",
       "      <td>65.0</td>\n",
       "    </tr>\n",
       "    <tr>\n",
       "      <th>3</th>\n",
       "      <td>1.0</td>\n",
       "      <td>1.0</td>\n",
       "      <td>2.0</td>\n",
       "      <td>1.0</td>\n",
       "      <td>75.0</td>\n",
       "    </tr>\n",
       "    <tr>\n",
       "      <th>4</th>\n",
       "      <td>1.5</td>\n",
       "      <td>1.0</td>\n",
       "      <td>2.0</td>\n",
       "      <td>1.0</td>\n",
       "      <td>79.0</td>\n",
       "    </tr>\n",
       "  </tbody>\n",
       "</table>\n",
       "</div>"
      ],
      "text/plain": [
       "   bathrooms  bedrooms  beds  room_type  price\n",
       "0        1.5       2.0   3.0        0.0  250.0\n",
       "1        1.0       1.0   1.0        1.0   65.0\n",
       "2        1.0       1.0   1.0        1.0   65.0\n",
       "3        1.0       1.0   2.0        1.0   75.0\n",
       "4        1.5       1.0   2.0        1.0   79.0"
      ]
     },
     "execution_count": 63,
     "metadata": {},
     "output_type": "execute_result"
    }
   ],
   "source": [
    "boston.head()"
   ]
  },
  {
   "cell_type": "code",
   "execution_count": 64,
   "metadata": {},
   "outputs": [],
   "source": [
    "features = boston[[\"bathrooms\", \"bedrooms\", \"beds\", \"room_type\"]]"
   ]
  },
  {
   "cell_type": "code",
   "execution_count": 65,
   "metadata": {},
   "outputs": [
    {
     "data": {
      "text/html": [
       "<div>\n",
       "<style scoped>\n",
       "    .dataframe tbody tr th:only-of-type {\n",
       "        vertical-align: middle;\n",
       "    }\n",
       "\n",
       "    .dataframe tbody tr th {\n",
       "        vertical-align: top;\n",
       "    }\n",
       "\n",
       "    .dataframe thead th {\n",
       "        text-align: right;\n",
       "    }\n",
       "</style>\n",
       "<table border=\"1\" class=\"dataframe\">\n",
       "  <thead>\n",
       "    <tr style=\"text-align: right;\">\n",
       "      <th></th>\n",
       "      <th>bathrooms</th>\n",
       "      <th>bedrooms</th>\n",
       "      <th>beds</th>\n",
       "      <th>room_type</th>\n",
       "    </tr>\n",
       "  </thead>\n",
       "  <tbody>\n",
       "    <tr>\n",
       "      <th>0</th>\n",
       "      <td>1.5</td>\n",
       "      <td>2.0</td>\n",
       "      <td>3.0</td>\n",
       "      <td>0.0</td>\n",
       "    </tr>\n",
       "    <tr>\n",
       "      <th>1</th>\n",
       "      <td>1.0</td>\n",
       "      <td>1.0</td>\n",
       "      <td>1.0</td>\n",
       "      <td>1.0</td>\n",
       "    </tr>\n",
       "    <tr>\n",
       "      <th>2</th>\n",
       "      <td>1.0</td>\n",
       "      <td>1.0</td>\n",
       "      <td>1.0</td>\n",
       "      <td>1.0</td>\n",
       "    </tr>\n",
       "    <tr>\n",
       "      <th>3</th>\n",
       "      <td>1.0</td>\n",
       "      <td>1.0</td>\n",
       "      <td>2.0</td>\n",
       "      <td>1.0</td>\n",
       "    </tr>\n",
       "    <tr>\n",
       "      <th>4</th>\n",
       "      <td>1.5</td>\n",
       "      <td>1.0</td>\n",
       "      <td>2.0</td>\n",
       "      <td>1.0</td>\n",
       "    </tr>\n",
       "  </tbody>\n",
       "</table>\n",
       "</div>"
      ],
      "text/plain": [
       "   bathrooms  bedrooms  beds  room_type\n",
       "0        1.5       2.0   3.0        0.0\n",
       "1        1.0       1.0   1.0        1.0\n",
       "2        1.0       1.0   1.0        1.0\n",
       "3        1.0       1.0   2.0        1.0\n",
       "4        1.5       1.0   2.0        1.0"
      ]
     },
     "execution_count": 65,
     "metadata": {},
     "output_type": "execute_result"
    }
   ],
   "source": [
    "features.head()"
   ]
  },
  {
   "cell_type": "code",
   "execution_count": 66,
   "metadata": {},
   "outputs": [],
   "source": [
    "target = boston[\"price\"]"
   ]
  },
  {
   "cell_type": "code",
   "execution_count": 67,
   "metadata": {},
   "outputs": [],
   "source": [
    "target.head()\n",
    "target = target.to_numpy(dtype = \"float64\")"
   ]
  },
  {
   "cell_type": "code",
   "execution_count": 68,
   "metadata": {},
   "outputs": [],
   "source": [
    "feautures_standardized = scaler.fit_transform(features)"
   ]
  },
  {
   "cell_type": "code",
   "execution_count": 69,
   "metadata": {},
   "outputs": [
    {
     "data": {
      "text/plain": [
       "array([[ 0.55269045,  0.9845902 ,  1.41404146, -0.79665698],\n",
       "       [-0.44288069, -0.34037518, -0.61728568,  1.06238366],\n",
       "       [-0.44288069, -0.34037518, -0.61728568,  1.06238366],\n",
       "       ...,\n",
       "       [-0.44288069, -0.34037518, -0.61728568, -0.79665698],\n",
       "       [-0.44288069, -0.34037518, -0.61728568,  1.06238366],\n",
       "       [-0.44288069, -0.34037518, -0.61728568,  1.06238366]])"
      ]
     },
     "execution_count": 69,
     "metadata": {},
     "output_type": "execute_result"
    }
   ],
   "source": [
    "feautures_standardized"
   ]
  },
  {
   "cell_type": "code",
   "execution_count": 70,
   "metadata": {},
   "outputs": [
    {
     "data": {
      "text/plain": [
       "array([250.,  65.,  65., ..., 198.,  65.,  65.])"
      ]
     },
     "execution_count": 70,
     "metadata": {},
     "output_type": "execute_result"
    }
   ],
   "source": [
    "target"
   ]
  },
  {
   "cell_type": "code",
   "execution_count": 71,
   "metadata": {},
   "outputs": [],
   "source": [
    "X_train, X_test, y_train, y_test = train_test_split(feautures_standardized, target, test_size= 0.2, random_state=0)"
   ]
  },
  {
   "cell_type": "markdown",
   "metadata": {},
   "source": [
    "Tworzenie obiektu regresji lasso."
   ]
  },
  {
   "cell_type": "code",
   "execution_count": 72,
   "metadata": {},
   "outputs": [],
   "source": [
    "reg_lasso = Lasso(alpha=0.1)"
   ]
  },
  {
   "cell_type": "code",
   "execution_count": 73,
   "metadata": {},
   "outputs": [],
   "source": [
    "model = reg_lasso.fit(X_train,y_train)"
   ]
  },
  {
   "cell_type": "code",
   "execution_count": 74,
   "metadata": {},
   "outputs": [],
   "source": [
    "y_predict = model.predict(X_test)"
   ]
  },
  {
   "cell_type": "code",
   "execution_count": 75,
   "metadata": {},
   "outputs": [
    {
     "data": {
      "text/plain": [
       "[]"
      ]
     },
     "execution_count": 75,
     "metadata": {},
     "output_type": "execute_result"
    },
    {
     "data": {
      "image/png": "[encoded data removed]",
      "text/plain": [
       "<Figure size 576x432 with 1 Axes>"
      ]
     },
     "metadata": {},
     "output_type": "display_data"
    }
   ],
   "source": [
    "plt.figure(figsize=(8, 6))\n",
    "plt.title(\"Lasso Regression train vs predict\")\n",
    "plt.xlabel(\"variable goal [bedroom]\")\n",
    "plt.ylabel(\"variable goal [price]\")\n",
    "plt.scatter(X_train[:,2], y_train, label=\"train\", color=\"black\", alpha=0.5)\n",
    "plt.scatter(X_test[:,2], y_predict, label=\"test\", color=\"yellow\", alpha=0.5)\n",
    "plt.style.use(\"seaborn-darkgrid\")\n",
    "plt.legend()\n",
    "plt.plot()"
   ]
  },
  {
   "cell_type": "code",
   "execution_count": 76,
   "metadata": {},
   "outputs": [
    {
     "data": {
      "text/plain": [
       "[]"
      ]
     },
     "execution_count": 76,
     "metadata": {},
     "output_type": "execute_result"
    },
    {
     "data": {
      "image/png": "[encoded data removed]",
      "text/plain": [
       "<Figure size 576x432 with 1 Axes>"
      ]
     },
     "metadata": {},
     "output_type": "display_data"
    }
   ],
   "source": [
    "plt.figure(figsize=(8, 6))\n",
    "plt.title(\"Lasso Regression train vs predict\")\n",
    "plt.xlabel(\"variable goal [beds]\")\n",
    "plt.ylabel(\"variable goal [price]\")\n",
    "plt.scatter(X_train[:,1], y_train, label=\"train\", color=\"green\", alpha=0.5)\n",
    "plt.scatter(X_test[:,1], y_predict, label=\"test\", color=\"blue\", alpha=0.5)\n",
    "plt.style.use(\"seaborn-darkgrid\")\n",
    "plt.legend()\n",
    "plt.plot()"
   ]
  },
  {
   "cell_type": "code",
   "execution_count": 77,
   "metadata": {},
   "outputs": [],
   "source": [
    "coef = pd.DataFrame(data=[regressor.coef_,model.coef_]).T"
   ]
  },
  {
   "cell_type": "code",
   "execution_count": 78,
   "metadata": {},
   "outputs": [],
   "source": [
    "coef.columns = [\"Linear\",\"Lasso\"]"
   ]
  },
  {
   "cell_type": "code",
   "execution_count": 79,
   "metadata": {},
   "outputs": [
    {
     "data": {
      "text/html": [
       "<div>\n",
       "<style scoped>\n",
       "    .dataframe tbody tr th:only-of-type {\n",
       "        vertical-align: middle;\n",
       "    }\n",
       "\n",
       "    .dataframe tbody tr th {\n",
       "        vertical-align: top;\n",
       "    }\n",
       "\n",
       "    .dataframe thead th {\n",
       "        text-align: right;\n",
       "    }\n",
       "</style>\n",
       "<table border=\"1\" class=\"dataframe\">\n",
       "  <thead>\n",
       "    <tr style=\"text-align: right;\">\n",
       "      <th></th>\n",
       "      <th>Linear</th>\n",
       "      <th>Lasso</th>\n",
       "    </tr>\n",
       "  </thead>\n",
       "  <tbody>\n",
       "    <tr>\n",
       "      <th>0</th>\n",
       "      <td>14.040493</td>\n",
       "      <td>13.966781</td>\n",
       "    </tr>\n",
       "    <tr>\n",
       "      <th>1</th>\n",
       "      <td>26.919096</td>\n",
       "      <td>26.885358</td>\n",
       "    </tr>\n",
       "    <tr>\n",
       "      <th>2</th>\n",
       "      <td>11.989356</td>\n",
       "      <td>11.964863</td>\n",
       "    </tr>\n",
       "    <tr>\n",
       "      <th>3</th>\n",
       "      <td>-47.274481</td>\n",
       "      <td>-47.195472</td>\n",
       "    </tr>\n",
       "  </tbody>\n",
       "</table>\n",
       "</div>"
      ],
      "text/plain": [
       "      Linear      Lasso\n",
       "0  14.040493  13.966781\n",
       "1  26.919096  26.885358\n",
       "2  11.989356  11.964863\n",
       "3 -47.274481 -47.195472"
      ]
     },
     "execution_count": 79,
     "metadata": {},
     "output_type": "execute_result"
    }
   ],
   "source": [
    "coef"
   ]
  },
  {
   "cell_type": "markdown",
   "metadata": {},
   "source": [
    "Tworzenie obiektu xgboost."
   ]
  },
  {
   "cell_type": "code",
   "execution_count": 80,
   "metadata": {},
   "outputs": [
    {
     "data": {
      "text/plain": [
       "XGBRegressor(base_score=0.5, booster='gbtree', colsample_bylevel=1,\n",
       "             colsample_bynode=1, colsample_bytree=1, gamma=0, gpu_id=-1,\n",
       "             importance_type='gain', interaction_constraints='',\n",
       "             learning_rate=0.300000012, max_delta_step=0, max_depth=6,\n",
       "             min_child_weight=1, missing=nan, monotone_constraints='()',\n",
       "             n_estimators=10, n_jobs=0, num_parallel_tree=1,\n",
       "             objective='reg:squarederror', random_state=0, reg_alpha=0,\n",
       "             reg_lambda=1, scale_pos_weight=1, subsample=1, tree_method='exact',\n",
       "             validate_parameters=1, verbosity=None)"
      ]
     },
     "execution_count": 80,
     "metadata": {},
     "output_type": "execute_result"
    }
   ],
   "source": [
    "model = xgboost.XGBRegressor(n_estimators=10)\n",
    "model.fit(X_train, y_train)"
   ]
  },
  {
   "cell_type": "code",
   "execution_count": 81,
   "metadata": {},
   "outputs": [],
   "source": [
    "explainer = shap.TreeExplainer(model)\n",
    "shap_values = explainer.shap_values(X)"
   ]
  },
  {
   "cell_type": "code",
   "execution_count": 82,
   "metadata": {},
   "outputs": [
    {
     "data": {
      "image/png": "[encoded data removed]",
      "text/plain": [
       "<Figure size 576x223.2 with 1 Axes>"
      ]
     },
     "metadata": {},
     "output_type": "display_data"
    }
   ],
   "source": [
    "shap.summary_plot(shap_values, X, plot_type=\"bar\")"
   ]
  },
  {
   "cell_type": "code",
   "execution_count": 83,
   "metadata": {},
   "outputs": [
    {
     "data": {
      "image/png": "[encoded data removed]",
      "text/plain": [
       "<Figure size 576x223.2 with 2 Axes>"
      ]
     },
     "metadata": {},
     "output_type": "display_data"
    }
   ],
   "source": [
    "shap.summary_plot(shap_values, features=X, feature_names=X.columns)"
   ]
  }
 ],
 "metadata": {
  "kernelspec": {
   "display_name": "Python 3",
   "language": "python",
   "name": "python3"
  },
  "language_info": {
   "codemirror_mode": {
    "name": "ipython",
    "version": 3
   },
   "file_extension": ".py",
   "mimetype": "text/x-python",
   "name": "python",
   "nbconvert_exporter": "python",
   "pygments_lexer": "ipython3",
   "version": "3.7.6"
  }
 },
 "nbformat": 4,
 "nbformat_minor": 4
}
